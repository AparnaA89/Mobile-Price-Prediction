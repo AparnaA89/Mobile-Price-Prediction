{
 "cells": [
  {
   "cell_type": "code",
   "execution_count": 1,
   "metadata": {},
   "outputs": [],
   "source": [
    "import pandas as pd\n",
    "import numpy as np\n",
    "import seaborn as sns\n",
    "import matplotlib as mt\n",
    "import matplotlib.pyplot as plt\n",
    "from pandas import DataFrame, read_excel, merge"
   ]
  },
  {
   "cell_type": "code",
   "execution_count": 2,
   "metadata": {},
   "outputs": [],
   "source": [
    "data = pd.read_excel(\"D:\\\\Jupyter Notebook\\\\Assignment 2\\\\V2\\\\FK_SP_Multiple_Pgs_Combined_Cleansed_V1.xlsx\")"
   ]
  },
  {
   "cell_type": "code",
   "execution_count": 3,
   "metadata": {},
   "outputs": [
    {
     "data": {
      "text/plain": [
       "(1779, 21)"
      ]
     },
     "execution_count": 3,
     "metadata": {},
     "output_type": "execute_result"
    }
   ],
   "source": [
    "data.shape"
   ]
  },
  {
   "cell_type": "code",
   "execution_count": 4,
   "metadata": {
    "scrolled": true
   },
   "outputs": [],
   "source": [
    "data1 = pd.DataFrame(data)\n",
    "#data1.head()"
   ]
  },
  {
   "cell_type": "code",
   "execution_count": 5,
   "metadata": {},
   "outputs": [],
   "source": [
    "data2 = data1[data1.Brand_Name.isin(['Samsung','Vivo', 'Motorola', 'Realme', 'Asus', 'Oppo', 'Oneplus', 'Alcatel', 'Lenovo', 'Google', 'LG', 'Panasonic', 'Nokia', 'Sony', 'Xiaomi', 'Micromax'])]"
   ]
  },
  {
   "cell_type": "code",
   "execution_count": 6,
   "metadata": {},
   "outputs": [
    {
     "data": {
      "text/plain": [
       "(1779, 21)"
      ]
     },
     "execution_count": 6,
     "metadata": {},
     "output_type": "execute_result"
    }
   ],
   "source": [
    "data.shape"
   ]
  },
  {
   "cell_type": "code",
   "execution_count": 7,
   "metadata": {},
   "outputs": [
    {
     "data": {
      "text/plain": [
       "array(['Motorola', 'Realme', 'Xiaomi', 'Vivo', 'Samsung', 'Nokia',\n",
       "       'Lenovo', 'LG', 'Alcatel', 'Asus', 'Panasonic', 'Micromax',\n",
       "       'Google'], dtype=object)"
      ]
     },
     "execution_count": 7,
     "metadata": {},
     "output_type": "execute_result"
    }
   ],
   "source": [
    "data2['Brand_Name'].unique()"
   ]
  },
  {
   "cell_type": "code",
   "execution_count": 8,
   "metadata": {},
   "outputs": [
    {
     "data": {
      "text/plain": [
       "array(['4 GB RAM ', '6 GB RAM ', '3 GB RAM ', '8 GB RAM ', '2 GB RAM ',\n",
       "       '12 GB RAM ', '1 GB RAM ', '1.5 GB RAM '], dtype=object)"
      ]
     },
     "execution_count": 8,
     "metadata": {},
     "output_type": "execute_result"
    }
   ],
   "source": [
    "data2['RAM1'].unique()"
   ]
  },
  {
   "cell_type": "code",
   "execution_count": 9,
   "metadata": {},
   "outputs": [
    {
     "data": {
      "text/plain": [
       "array([' 64 GB ROM ', ' 128 GB ROM ', ' 32 GB ROM', ' 128 GB ROM',\n",
       "       ' 32 GB ROM ', ' 16 GB ROM ', ' 16 GB ROM', ' 256 GB ROM',\n",
       "       ' 64 GB ROM', ' 8 GB ROM', ' 256 GB ROM ', ' 512 GB ROM ',\n",
       "       ' 8 GB ROM ', ' 4 GB ROM ', ' 1 TB ROM '], dtype=object)"
      ]
     },
     "execution_count": 9,
     "metadata": {},
     "output_type": "execute_result"
    }
   ],
   "source": [
    "data2['ROM'].unique()"
   ]
  },
  {
   "cell_type": "code",
   "execution_count": 10,
   "metadata": {},
   "outputs": [
    {
     "data": {
      "text/plain": [
       "array([' Expandable Upto 256 GB', ' Expandable Upto 512 GB',\n",
       "       ' Expandable Upto 1 TB', nan, ' Expandable Upto 128 GB',\n",
       "       ' Expandable Upto 400 GB', ' Expandable Upto 32 GB',\n",
       "       ' Expandable Upto 2 TB', ' Expandable Upto 64 GB',\n",
       "       ' Expandable Upto 200 GB', ' Expandable Upto 128'], dtype=object)"
      ]
     },
     "execution_count": 10,
     "metadata": {},
     "output_type": "execute_result"
    }
   ],
   "source": [
    "data2['Expnd_Mem'].unique()"
   ]
  },
  {
   "cell_type": "code",
   "execution_count": 11,
   "metadata": {
    "scrolled": true
   },
   "outputs": [
    {
     "data": {
      "text/plain": [
       "array(['MediaTek Helio P35', 'Snapdragon 720G', 'MediaTek Helio G90T',\n",
       "       'MediaTek Helio G80 (12 nm)', 'Qualcomm Snapdragon 730G',\n",
       "       'MediaTek Helio P22', 'SDM439', 'Exynos 850 Octa Core',\n",
       "       'Qualcomm Snapdragon 712 AIE',\n",
       "       'Qualcomm Snapdragon 450 Octa Core 1.8 GHz',\n",
       "       'Qualcomm Snapdragon 626', 'Qualcomm Snapdragon 730G Octa-Core',\n",
       "       'Qualcomm Snapdragon 430', 'Qualcomm Snapdragon 636', 'MTK P20',\n",
       "       'qualcomm Qualcomm Snapdragon 800 8274AB Quad Core 2.3GHz',\n",
       "       'Brand Warranty of 1 Year Available for Mobile and 6 Months for Accessories',\n",
       "       'Qualcomm Snapdragon 865', 'Samsung Exynos 9609',\n",
       "       'Qualcomm Snapdragon 855', 'MTK X23',\n",
       "       'Qualcomm Snapdragon (SDM450-F01) Octa Core',\n",
       "       'Qualcomm Snapdragon 730', '12 Months', 'Qualcomm Snapdragon 625',\n",
       "       'Qualcomm 712', 'Qualcomm Snapdragon 675AIE Octa Core 2.0GHz',\n",
       "       '18 Months', 'Mediatek Helio P22', 'Exynos 9810',\n",
       "       'Cortex-A53 (MediaTek MT6752 64-bit 4G LTE)', '1 year',\n",
       "       'Qualcomm Snapdragon 439', 'Qualcomm Snapdragon 615 MSM8939',\n",
       "       'Qualcomm Snapdragon 435 1.4 GHz Octacore', 'Snapdragon',\n",
       "       'Qualcomm SM7150', 'Mediatek MTK 6737H Quad Core',\n",
       "       'Snapdragon 425 Quad Core', '1 Year Manufacturer Warranty',\n",
       "       'Qualcomm Snapdragon 660', 'Qualcomm Snapdragon',\n",
       "       'Qualcomm Snapdragon 660 AIE', 'Exynos 7904',\n",
       "       'Mediatek MT6762 Helio P22', 'Qualcomm Snapdragon Quad core',\n",
       "       '1 Year Warranty', 'Exynos 9611', 'Qualcomm Snapdragon 429',\n",
       "       'Qualcomm Snapdragon 450', 'MediaTek MT6762',\n",
       "       'Qualcomm Octa Core 1.4GHz',\n",
       "       '1 year manufacturer warranty for device and 6 months manufacturer warranty for in-box accessories including batteries from the date of purchase',\n",
       "       'Exynos 9 9820', 'Qualcomm Snapdragon 425',\n",
       "       'MediaTek MT6750 64-bit Octa Core 1.5GHz',\n",
       "       'Qualcomm Snapdragon SDM450', 'Exynos 7870', 'Exynos 7884',\n",
       "       'Qualcomm Snapdragon 625 64-bit Octa Core 2 GHz', 'Exynos 7570',\n",
       "       'Exynos 7884B', 'Exynos Octa Core 1.6 GHz',\n",
       "       'Exynos 7570 Quad Core 1.4GHz', 'Qualcomm Snapdragon 845',\n",
       "       'ARM Cortex-A53 (MediaTek MT6752 64-bit 4G LTE) Octa Core 1.7GHz',\n",
       "       '12 months', 'MTK Helio P22', 'MediaTek 6582', '8895',\n",
       "       'MediaTek P22 Octa Core 2.0 GHz', 'Exynos 8895 Octa Core 2.3GHz',\n",
       "       'Qualcomm Snapdragon 430 64-bit',\n",
       "       'Mediatek MTK6737 Quad Core 1.3Ghz', 'Snapdragon 425',\n",
       "       'Mediatek Octa-Core 1.69GHz', 'Spreadtrum Quad-Core 1.5GHz',\n",
       "       'Qualcomm Snapdragon SD425', 'Cortex-A7',\n",
       "       'Exynos 7870 Octa Core 1.6GHz', 'Qualcomm MSM8917',\n",
       "       'MediaTek Helio A22',\n",
       "       'Qualcomm Snapdragon 425 64-bit Quad Core 1.4GHz',\n",
       "       'Qualcomm Snapdragon 805 QSC 8084',\n",
       "       'Snapdragon 210�Quad Core 1.1GHz',\n",
       "       'MediaTek MTK 6750S 1.5 Ghz Octa-core',\n",
       "       'Mediatek MT6592 Octa Core 1.4GHz', 'MTK6737',\n",
       "       '2nd-gen Snapdragon 615 64-bit octa-core',\n",
       "       'Intel Atom Z2520 with Intel Hyper Threading Technology',\n",
       "       'Qualcomm Snapdragon 615', 'Exynos 8890 Octa Core 2.3GHz',\n",
       "       'Qualcomm Snapdragon 625 64-bit Octa Core 2GHz',\n",
       "       'Helio P22 (MTK6762R)', 'MT6762 Octa Core (Helio P22)',\n",
       "       'Exynos 990', 'MT6582M', 'Exynos Octa-Core 1.6GHz',\n",
       "       'Qualcomm Snapdragon 616 Octa-core 1.5GHz',\n",
       "       '12 Months Brand Warranty', 'Qualcomm Snapdragon 400',\n",
       "       '1 Year Manufacturer Warranty for Device and 6 Months Manufacturer Warranty for In-Box Accessories Including Batteries from the Date of Purchase.',\n",
       "       '1 Year Manufacturer Warranty for Device and 6 Months Manufacturer Warranty for In-box Accessories Including Batteries from the Date of Purchase.',\n",
       "       'Qualcomm Snapdragon 821 64-bit Quad Core 2.15GHz',\n",
       "       'Octa Core 1.4GHz', '0 0 Quad Core 1.25GHz',\n",
       "       'Qualcomm Snapdragon 665 AIE', 'Qualcomm Snapdragon 665',\n",
       "       'MediaTek (MT6768) Octa Core',\n",
       "       'Qualcomm Snapdragon (SDM439) Octa Core',\n",
       "       'Mediatek MT6753 Octa Core 1.3GHz', 'Qualcomm SDM450-B01',\n",
       "       'Mediatek MT6750 Octa Core 1.5GHz', 'Exynos 3475 Quad Core 1.3GHz',\n",
       "       'qualcomm 0 Dual Core 1.2GHz', 'MT6592',\n",
       "       '2.0 GHz Qualcomm Snapdragon 660 AIE', 'Qualcomm Snapdragon 630',\n",
       "       'Intel Atom Z3580', '1 Year Product and 6 Month Accessories',\n",
       "       'MSM8952', 'Qualcomm Snapdragon 801 MSM8974-AC',\n",
       "       '\\xa0Exynos 9611-Octa Core processor', 'Qualcomm Snapdragon 855+',\n",
       "       '1 Year', 'SC9863A', 'Qualcomm SDM429 Snapdragon 429',\n",
       "       'MTK Helio P70', 'MTK Helio P35 (MT6765)', 'MTK 6572AW',\n",
       "       'MTK6737 A53', 'Samsung Exynos Octa Core (2.2 GHz)',\n",
       "       '1 Year Warranty on Phone, 6 Months Warranty on Accessories',\n",
       "       '0 0 Quad Core 1GHz', 'Exynos Octa-Core 1.6 GHz',\n",
       "       'Qualcomm SM6150', 'Exynos Adonis Prime2 Octa Core 1.9GHz',\n",
       "       'MediaTek MT6737 Cortex-A53 64-bit',\n",
       "       'Qualcomm Snapdragon 855 (SM8150)',\n",
       "       'Qualcomm Snapdragon 710 Octa Core 2.2 GHz AIE',\n",
       "       'MediaTek Helio G70 (12 nm)', 'Octa-Core', 'MTK 6737', 'MT6737',\n",
       "       'MT6739', 'Qualcomm Snapdragon 710',\n",
       "       'Mediatek MTK6753 Octa Core 1.3GHz', 'Qualcomm Spectra 480 ISP',\n",
       "       'Mediatek MTK6737 1.25GHz', 'MT6737M Quad Core 1.1 GHz',\n",
       "       '1 Year Manufacturer Warranty for Handset and 6 Months for Accessories',\n",
       "       'MediaTek MT6735P 64-bit',\n",
       "       '1 Year on Handset & 6 Months on Accessories', 'Helio P65',\n",
       "       'Qualcomm Snapdragon SDM712 Octa Core 2.3 GHz',\n",
       "       'Qualcomm Snapdragon 675', 'Qualcomm Snapdragon 855 Plus',\n",
       "       'Exynos 9610', 'Qualcomm Snapdragon 670', 'Helio P65 (MT6768)',\n",
       "       'Helio P22', 'MediaTek', '5G Phone'], dtype=object)"
      ]
     },
     "execution_count": 11,
     "metadata": {},
     "output_type": "execute_result"
    }
   ],
   "source": [
    "data2['Processor1'].unique()"
   ]
  },
  {
   "cell_type": "code",
   "execution_count": 12,
   "metadata": {},
   "outputs": [],
   "source": [
    "temp = data2.Processor1.fillna(\"NULL\")"
   ]
  },
  {
   "cell_type": "code",
   "execution_count": 13,
   "metadata": {},
   "outputs": [],
   "source": [
    "Pros_cat = read_excel('Processor_Category.xlsx')"
   ]
  },
  {
   "cell_type": "code",
   "execution_count": 14,
   "metadata": {},
   "outputs": [],
   "source": [
    "data2 = data2.merge(Pros_cat, on='Processor1', how='left')"
   ]
  },
  {
   "cell_type": "code",
   "execution_count": 15,
   "metadata": {},
   "outputs": [
    {
     "data": {
      "text/plain": [
       "array(['Motorola', 'Realme', 'Xiaomi', 'Vivo', 'Samsung', 'Nokia',\n",
       "       'Lenovo', 'LG', 'Alcatel', 'Asus', 'Panasonic', 'Micromax',\n",
       "       'Google'], dtype=object)"
      ]
     },
     "execution_count": 15,
     "metadata": {},
     "output_type": "execute_result"
    }
   ],
   "source": [
    "data2['Brand_Name'].unique()"
   ]
  },
  {
   "cell_type": "code",
   "execution_count": 16,
   "metadata": {
    "scrolled": true
   },
   "outputs": [
    {
     "data": {
      "text/html": [
       "<div>\n",
       "<style scoped>\n",
       "    .dataframe tbody tr th:only-of-type {\n",
       "        vertical-align: middle;\n",
       "    }\n",
       "\n",
       "    .dataframe tbody tr th {\n",
       "        vertical-align: top;\n",
       "    }\n",
       "\n",
       "    .dataframe thead th {\n",
       "        text-align: right;\n",
       "    }\n",
       "</style>\n",
       "<table border=\"1\" class=\"dataframe\">\n",
       "  <thead>\n",
       "    <tr style=\"text-align: right;\">\n",
       "      <th></th>\n",
       "      <th>Unnamed: 0</th>\n",
       "      <th>Unnamed: 0.1</th>\n",
       "      <th>Product_Name</th>\n",
       "      <th>Price</th>\n",
       "      <th>Rating</th>\n",
       "      <th>RAM</th>\n",
       "      <th>Display</th>\n",
       "      <th>Camera</th>\n",
       "      <th>Battery</th>\n",
       "      <th>Processor</th>\n",
       "      <th>...</th>\n",
       "      <th>RAM1</th>\n",
       "      <th>ROM</th>\n",
       "      <th>Expnd_Mem</th>\n",
       "      <th>Rear_Camera</th>\n",
       "      <th>Front_Camera</th>\n",
       "      <th>Battery1</th>\n",
       "      <th>Processor1</th>\n",
       "      <th>Brand</th>\n",
       "      <th>Brand_Name</th>\n",
       "      <th>Processor_Category</th>\n",
       "    </tr>\n",
       "  </thead>\n",
       "  <tbody>\n",
       "    <tr>\n",
       "      <td>0</td>\n",
       "      <td>2</td>\n",
       "      <td>1</td>\n",
       "      <td>Motorola G8 Power Lite (Arctic Blue, 64 GB)</td>\n",
       "      <td>₹9,499</td>\n",
       "      <td>4.5</td>\n",
       "      <td>4 GB RAM | 64 GB ROM | Expandable Upto 256 GB</td>\n",
       "      <td>6.5</td>\n",
       "      <td>16MP + 2MP + 2MP | 8MP Front Camera</td>\n",
       "      <td>5000 mAh Lithium-ion Battery</td>\n",
       "      <td>MediaTek Helio P35 Processor</td>\n",
       "      <td>...</td>\n",
       "      <td>4 GB RAM</td>\n",
       "      <td>64 GB ROM</td>\n",
       "      <td>Expandable Upto 256 GB</td>\n",
       "      <td>16MP + 2MP + 2MP</td>\n",
       "      <td>8MP Front Camera</td>\n",
       "      <td>5000</td>\n",
       "      <td>MediaTek Helio P35</td>\n",
       "      <td>Motorola</td>\n",
       "      <td>Motorola</td>\n",
       "      <td>MediaTek</td>\n",
       "    </tr>\n",
       "    <tr>\n",
       "      <td>1</td>\n",
       "      <td>3</td>\n",
       "      <td>1</td>\n",
       "      <td>Motorola G8 Power Lite (Arctic Blue, 64 GB)</td>\n",
       "      <td>₹9,499</td>\n",
       "      <td>4.5</td>\n",
       "      <td>4 GB RAM | 64 GB ROM | Expandable Upto 256 GB</td>\n",
       "      <td>6.5</td>\n",
       "      <td>16MP + 2MP + 2MP | 8MP Front Camera</td>\n",
       "      <td>5000 mAh Lithium-ion Battery</td>\n",
       "      <td>MediaTek Helio P35 Processor</td>\n",
       "      <td>...</td>\n",
       "      <td>4 GB RAM</td>\n",
       "      <td>64 GB ROM</td>\n",
       "      <td>Expandable Upto 256 GB</td>\n",
       "      <td>16MP + 2MP + 2MP</td>\n",
       "      <td>8MP Front Camera</td>\n",
       "      <td>5000</td>\n",
       "      <td>MediaTek Helio P35</td>\n",
       "      <td>Motorola</td>\n",
       "      <td>Motorola</td>\n",
       "      <td>MediaTek</td>\n",
       "    </tr>\n",
       "    <tr>\n",
       "      <td>2</td>\n",
       "      <td>4</td>\n",
       "      <td>2</td>\n",
       "      <td>Realme 6 Pro (Lightning Blue, 64 GB)</td>\n",
       "      <td>₹17,999</td>\n",
       "      <td>4.5</td>\n",
       "      <td>6 GB RAM | 64 GB ROM | Expandable Upto 256 GB</td>\n",
       "      <td>6.6</td>\n",
       "      <td>64MP + 12MP + 8MP + 2MP | 16MP + 8MP Dual Fron...</td>\n",
       "      <td>4300 mAh Battery</td>\n",
       "      <td>Snapdragon 720G Processor</td>\n",
       "      <td>...</td>\n",
       "      <td>6 GB RAM</td>\n",
       "      <td>64 GB ROM</td>\n",
       "      <td>Expandable Upto 256 GB</td>\n",
       "      <td>64MP + 12MP + 8MP + 2MP</td>\n",
       "      <td>16MP + 8MP Dual Front Camera</td>\n",
       "      <td>4300</td>\n",
       "      <td>Snapdragon 720G</td>\n",
       "      <td>Realme</td>\n",
       "      <td>Realme</td>\n",
       "      <td>Qualcomm</td>\n",
       "    </tr>\n",
       "    <tr>\n",
       "      <td>3</td>\n",
       "      <td>5</td>\n",
       "      <td>2</td>\n",
       "      <td>Realme 6 Pro (Lightning Blue, 64 GB)</td>\n",
       "      <td>₹17,999</td>\n",
       "      <td>4.5</td>\n",
       "      <td>6 GB RAM | 64 GB ROM | Expandable Upto 256 GB</td>\n",
       "      <td>6.6</td>\n",
       "      <td>64MP + 12MP + 8MP + 2MP | 16MP + 8MP Dual Fron...</td>\n",
       "      <td>4300 mAh Battery</td>\n",
       "      <td>Snapdragon 720G Processor</td>\n",
       "      <td>...</td>\n",
       "      <td>6 GB RAM</td>\n",
       "      <td>64 GB ROM</td>\n",
       "      <td>Expandable Upto 256 GB</td>\n",
       "      <td>64MP + 12MP + 8MP + 2MP</td>\n",
       "      <td>16MP + 8MP Dual Front Camera</td>\n",
       "      <td>4300</td>\n",
       "      <td>Snapdragon 720G</td>\n",
       "      <td>Realme</td>\n",
       "      <td>Realme</td>\n",
       "      <td>Qualcomm</td>\n",
       "    </tr>\n",
       "    <tr>\n",
       "      <td>4</td>\n",
       "      <td>6</td>\n",
       "      <td>3</td>\n",
       "      <td>Motorola G8 Power Lite (Royal Blue, 64 GB)</td>\n",
       "      <td>₹9,499</td>\n",
       "      <td>4.5</td>\n",
       "      <td>4 GB RAM | 64 GB ROM | Expandable Upto 256 GB</td>\n",
       "      <td>6.5</td>\n",
       "      <td>16MP + 2MP + 2MP | 8MP Front Camera</td>\n",
       "      <td>5000 mAh Lithium-ion Battery</td>\n",
       "      <td>MediaTek Helio P35 Processor</td>\n",
       "      <td>...</td>\n",
       "      <td>4 GB RAM</td>\n",
       "      <td>64 GB ROM</td>\n",
       "      <td>Expandable Upto 256 GB</td>\n",
       "      <td>16MP + 2MP + 2MP</td>\n",
       "      <td>8MP Front Camera</td>\n",
       "      <td>5000</td>\n",
       "      <td>MediaTek Helio P35</td>\n",
       "      <td>Motorola</td>\n",
       "      <td>Motorola</td>\n",
       "      <td>MediaTek</td>\n",
       "    </tr>\n",
       "  </tbody>\n",
       "</table>\n",
       "<p>5 rows × 22 columns</p>\n",
       "</div>"
      ],
      "text/plain": [
       "   Unnamed: 0  Unnamed: 0.1                                 Product_Name  \\\n",
       "0           2             1  Motorola G8 Power Lite (Arctic Blue, 64 GB)   \n",
       "1           3             1  Motorola G8 Power Lite (Arctic Blue, 64 GB)   \n",
       "2           4             2         Realme 6 Pro (Lightning Blue, 64 GB)   \n",
       "3           5             2         Realme 6 Pro (Lightning Blue, 64 GB)   \n",
       "4           6             3   Motorola G8 Power Lite (Royal Blue, 64 GB)   \n",
       "\n",
       "     Price  Rating                                            RAM Display  \\\n",
       "0   ₹9,499     4.5  4 GB RAM | 64 GB ROM | Expandable Upto 256 GB     6.5   \n",
       "1   ₹9,499     4.5  4 GB RAM | 64 GB ROM | Expandable Upto 256 GB     6.5   \n",
       "2  ₹17,999     4.5  6 GB RAM | 64 GB ROM | Expandable Upto 256 GB     6.6   \n",
       "3  ₹17,999     4.5  6 GB RAM | 64 GB ROM | Expandable Upto 256 GB     6.6   \n",
       "4   ₹9,499     4.5  4 GB RAM | 64 GB ROM | Expandable Upto 256 GB     6.5   \n",
       "\n",
       "                                              Camera  \\\n",
       "0                16MP + 2MP + 2MP | 8MP Front Camera   \n",
       "1                16MP + 2MP + 2MP | 8MP Front Camera   \n",
       "2  64MP + 12MP + 8MP + 2MP | 16MP + 8MP Dual Fron...   \n",
       "3  64MP + 12MP + 8MP + 2MP | 16MP + 8MP Dual Fron...   \n",
       "4                16MP + 2MP + 2MP | 8MP Front Camera   \n",
       "\n",
       "                        Battery                     Processor  ...       RAM1  \\\n",
       "0  5000 mAh Lithium-ion Battery  MediaTek Helio P35 Processor  ...  4 GB RAM    \n",
       "1  5000 mAh Lithium-ion Battery  MediaTek Helio P35 Processor  ...  4 GB RAM    \n",
       "2              4300 mAh Battery     Snapdragon 720G Processor  ...  6 GB RAM    \n",
       "3              4300 mAh Battery     Snapdragon 720G Processor  ...  6 GB RAM    \n",
       "4  5000 mAh Lithium-ion Battery  MediaTek Helio P35 Processor  ...  4 GB RAM    \n",
       "\n",
       "           ROM                Expnd_Mem               Rear_Camera  \\\n",
       "0   64 GB ROM    Expandable Upto 256 GB         16MP + 2MP + 2MP    \n",
       "1   64 GB ROM    Expandable Upto 256 GB         16MP + 2MP + 2MP    \n",
       "2   64 GB ROM    Expandable Upto 256 GB  64MP + 12MP + 8MP + 2MP    \n",
       "3   64 GB ROM    Expandable Upto 256 GB  64MP + 12MP + 8MP + 2MP    \n",
       "4   64 GB ROM    Expandable Upto 256 GB         16MP + 2MP + 2MP    \n",
       "\n",
       "                    Front_Camera Battery1          Processor1     Brand  \\\n",
       "0               8MP Front Camera     5000  MediaTek Helio P35  Motorola   \n",
       "1               8MP Front Camera     5000  MediaTek Helio P35  Motorola   \n",
       "2   16MP + 8MP Dual Front Camera     4300     Snapdragon 720G    Realme   \n",
       "3   16MP + 8MP Dual Front Camera     4300     Snapdragon 720G    Realme   \n",
       "4               8MP Front Camera     5000  MediaTek Helio P35  Motorola   \n",
       "\n",
       "  Brand_Name Processor_Category  \n",
       "0   Motorola           MediaTek  \n",
       "1   Motorola           MediaTek  \n",
       "2     Realme           Qualcomm  \n",
       "3     Realme           Qualcomm  \n",
       "4   Motorola           MediaTek  \n",
       "\n",
       "[5 rows x 22 columns]"
      ]
     },
     "execution_count": 16,
     "metadata": {},
     "output_type": "execute_result"
    }
   ],
   "source": [
    "data2.head()"
   ]
  },
  {
   "cell_type": "code",
   "execution_count": 17,
   "metadata": {},
   "outputs": [],
   "source": [
    "data2.to_excel(\"D:\\\\Jupyter Notebook\\\\Assignment 2\\\\V2\\\\FK_SP_Multiple_Pgs_Combined_Cleansed_V1_V2.xlsx\")"
   ]
  },
  {
   "cell_type": "code",
   "execution_count": 18,
   "metadata": {},
   "outputs": [],
   "source": [
    "data3 = pd.DataFrame(data2)"
   ]
  },
  {
   "cell_type": "code",
   "execution_count": 19,
   "metadata": {},
   "outputs": [
    {
     "data": {
      "text/plain": [
       "array(['Motorola', 'Realme', 'Xiaomi', 'Vivo', 'Samsung', 'Nokia',\n",
       "       'Lenovo', 'LG', 'Alcatel', 'Asus', 'Panasonic', 'Micromax',\n",
       "       'Google'], dtype=object)"
      ]
     },
     "execution_count": 19,
     "metadata": {},
     "output_type": "execute_result"
    }
   ],
   "source": [
    "data3['Brand_Name'].unique()"
   ]
  },
  {
   "cell_type": "code",
   "execution_count": 20,
   "metadata": {},
   "outputs": [
    {
     "data": {
      "text/plain": [
       "Index(['Unnamed: 0', 'Unnamed: 0.1', 'Product_Name', 'Price', 'Rating', 'RAM',\n",
       "       'Display', 'Camera', 'Battery', 'Processor', 'filename', 'Price1',\n",
       "       'RAM1', 'ROM', 'Expnd_Mem', 'Rear_Camera', 'Front_Camera', 'Battery1',\n",
       "       'Processor1', 'Brand', 'Brand_Name', 'Processor_Category'],\n",
       "      dtype='object')"
      ]
     },
     "execution_count": 20,
     "metadata": {},
     "output_type": "execute_result"
    }
   ],
   "source": [
    "data3.columns"
   ]
  },
  {
   "cell_type": "code",
   "execution_count": 21,
   "metadata": {},
   "outputs": [
    {
     "data": {
      "text/plain": [
       "array(['MediaTek', 'Qualcomm', 'Exynos', nan, 'Blank', 'Intel'],\n",
       "      dtype=object)"
      ]
     },
     "execution_count": 21,
     "metadata": {},
     "output_type": "execute_result"
    }
   ],
   "source": [
    "data3['Processor_Category'].unique()"
   ]
  },
  {
   "cell_type": "code",
   "execution_count": 22,
   "metadata": {},
   "outputs": [
    {
     "data": {
      "text/plain": [
       "array(['Motorola', 'Realme', 'Xiaomi', 'Vivo', 'Samsung', 'Nokia',\n",
       "       'Lenovo', 'LG', 'Alcatel', 'Asus', 'Panasonic', 'Micromax',\n",
       "       'Google'], dtype=object)"
      ]
     },
     "execution_count": 22,
     "metadata": {},
     "output_type": "execute_result"
    }
   ],
   "source": [
    "data3['Brand_Name'].unique()"
   ]
  },
  {
   "cell_type": "code",
   "execution_count": 23,
   "metadata": {},
   "outputs": [],
   "source": [
    "data3['Processor_Category'] = data3['Processor_Category'].fillna('Blank')"
   ]
  },
  {
   "cell_type": "code",
   "execution_count": 24,
   "metadata": {},
   "outputs": [],
   "source": [
    "data3 = data3.drop(columns=\"filename\")\n",
    "data3 = data3.drop(columns=\"Unnamed: 0\")\n",
    "data3 = data3.drop(columns=\"Unnamed: 0.1\")\n",
    "#data3 = data3.drop(columns=\"Price\")\n",
    "#data3 = data3.drop(columns=\"RAM\")\n",
    "#data3 = data3.drop(columns=\"Battery\")\n",
    "#data3 = data3.drop(columns=\"Camera\")\n",
    "#data3 = data3.drop(columns=\"Brand\")\n",
    "#data3 = data3.drop(columns=\"Processor\")"
   ]
  },
  {
   "cell_type": "code",
   "execution_count": 25,
   "metadata": {},
   "outputs": [
    {
     "data": {
      "text/plain": [
       "Index(['Product_Name', 'Price', 'Rating', 'RAM', 'Display', 'Camera',\n",
       "       'Battery', 'Processor', 'Price1', 'RAM1', 'ROM', 'Expnd_Mem',\n",
       "       'Rear_Camera', 'Front_Camera', 'Battery1', 'Processor1', 'Brand',\n",
       "       'Brand_Name', 'Processor_Category'],\n",
       "      dtype='object')"
      ]
     },
     "execution_count": 25,
     "metadata": {},
     "output_type": "execute_result"
    }
   ],
   "source": [
    "data3.columns"
   ]
  },
  {
   "cell_type": "code",
   "execution_count": 26,
   "metadata": {
    "scrolled": true
   },
   "outputs": [
    {
     "data": {
      "text/plain": [
       "Index(['Product_Name', 'Price', 'Rating', 'RAM', 'Display', 'Camera',\n",
       "       'Battery', 'Processor', 'Price1', 'RAM1', 'ROM', 'Expnd_Mem',\n",
       "       'Rear_Camera', 'Front_Camera', 'Battery1', 'Processor1', 'Brand',\n",
       "       'Brand_Name', 'Processor_Category'],\n",
       "      dtype='object')"
      ]
     },
     "execution_count": 26,
     "metadata": {},
     "output_type": "execute_result"
    }
   ],
   "source": [
    "#data3.columns=[\"Product_Name\",\"Price\",\"Rating\",\"RAM\",\"Display\",\"ROM\",\"Expandable_Memory\",\"Rear_Camera\",\"Front_Camera\",\"Battery\",\"Processor\",\"Brand_Name\",\"Processor_Category\"]\n",
    "data3.columns"
   ]
  },
  {
   "cell_type": "code",
   "execution_count": 27,
   "metadata": {},
   "outputs": [],
   "source": [
    "data3['Display']=data3['Display'].str.replace(' inch','')\n",
    "data3['Rear_Camera']=data3['Rear_Camera'].str.replace(' Rear Camera','')\n",
    "data3['Rear_Camera']=data3['Rear_Camera'].str.replace(' Camera','')\n",
    "data3['Front_Camera']=data3['Front_Camera'].str.replace(' Front Camera','')\n",
    "data3['Battery']=data3['Battery'].str.replace(' mAh','')\n",
    "data3['Battery']=data3['Battery'].str.replace(' Battery','')\n",
    "data3['Battery']=data3['Battery'].str.replace(' Lithium-ion Battery','')\n",
    "data3['Battery']=data3['Battery'].str.replace(' Lithium-ion','')\n",
    "data3['Battery']=data3['Battery'].str.replace(' Li-Ion','')\n",
    "data3['Battery']=data3['Battery'].str.replace(' Li-ion','')\n",
    "data3['Battery']=data3['Battery'].str.replace(' Li-Polymer','')\n",
    "data3['Battery']=data3['Battery'].str.replace(' Polymer','')\n",
    "data3['Battery']=data3['Battery'].str.replace(' Lithium','')\n",
    "data3['Battery']=data3['Battery'].str.replace(' Ion','')\n"
   ]
  },
  {
   "cell_type": "code",
   "execution_count": 28,
   "metadata": {},
   "outputs": [],
   "source": [
    "data3 = data3[data3.Brand_Name.isin(['Samsung','Vivo', 'Motorola', 'Realme', 'Asus', 'Oppo', 'Oneplus', 'Alcatel', 'Lenovo', 'Google', 'LG', 'Panasonic', 'Nokia', 'Sony', 'Xiaomi', 'Micromax'])]"
   ]
  },
  {
   "cell_type": "code",
   "execution_count": 29,
   "metadata": {},
   "outputs": [
    {
     "data": {
      "text/plain": [
       "Product_Name           object\n",
       "Price                  object\n",
       "Rating                float64\n",
       "RAM                    object\n",
       "Display                object\n",
       "Camera                 object\n",
       "Battery                object\n",
       "Processor              object\n",
       "Price1                  int64\n",
       "RAM1                   object\n",
       "ROM                    object\n",
       "Expnd_Mem              object\n",
       "Rear_Camera            object\n",
       "Front_Camera           object\n",
       "Battery1                int64\n",
       "Processor1             object\n",
       "Brand                  object\n",
       "Brand_Name             object\n",
       "Processor_Category     object\n",
       "dtype: object"
      ]
     },
     "execution_count": 29,
     "metadata": {},
     "output_type": "execute_result"
    }
   ],
   "source": [
    "data3.dtypes"
   ]
  },
  {
   "cell_type": "code",
   "execution_count": 30,
   "metadata": {},
   "outputs": [],
   "source": [
    "data3.columns = ['Product_Name','Price','Rating','RAM','Display','Camera','Battery','Processor','Price1','RAM1','ROM','Expandable_Memory','Rear_Camera','Front_Camera','Battery1','Processor1','Brand','Brand_Name','Processor_Category']"
   ]
  },
  {
   "cell_type": "code",
   "execution_count": 31,
   "metadata": {},
   "outputs": [
    {
     "data": {
      "text/plain": [
       "array(['Motorola', 'Realme', 'Xiaomi', 'Vivo', 'Samsung', 'Nokia',\n",
       "       'Lenovo', 'LG', 'Alcatel', 'Asus', 'Panasonic', 'Micromax',\n",
       "       'Google'], dtype=object)"
      ]
     },
     "execution_count": 31,
     "metadata": {},
     "output_type": "execute_result"
    }
   ],
   "source": [
    "data3['Brand_Name'].unique()"
   ]
  },
  {
   "cell_type": "code",
   "execution_count": 32,
   "metadata": {},
   "outputs": [
    {
     "data": {
      "text/plain": [
       "(996, 19)"
      ]
     },
     "execution_count": 32,
     "metadata": {},
     "output_type": "execute_result"
    }
   ],
   "source": [
    "data3.shape"
   ]
  },
  {
   "cell_type": "code",
   "execution_count": 33,
   "metadata": {},
   "outputs": [],
   "source": [
    "data3.to_excel(\"D:\\\\Jupyter Notebook\\\\Assignment 2\\\\V2\\\\FK_SP_Multiple_Pgs_Combined_Cleansed_V1_V3.xlsx\")"
   ]
  },
  {
   "cell_type": "code",
   "execution_count": 34,
   "metadata": {},
   "outputs": [
    {
     "data": {
      "text/plain": [
       "array(['Motorola', 'Realme', 'Xiaomi', 'Vivo', 'Samsung', 'Nokia',\n",
       "       'Lenovo', 'LG', 'Alcatel', 'Asus', 'Panasonic', 'Micromax',\n",
       "       'Google'], dtype=object)"
      ]
     },
     "execution_count": 34,
     "metadata": {},
     "output_type": "execute_result"
    }
   ],
   "source": [
    "data3['Brand_Name'].unique()"
   ]
  },
  {
   "cell_type": "code",
   "execution_count": 35,
   "metadata": {},
   "outputs": [],
   "source": [
    "data4 = pd.DataFrame(data3)"
   ]
  },
  {
   "cell_type": "code",
   "execution_count": 36,
   "metadata": {},
   "outputs": [
    {
     "data": {
      "text/html": [
       "<div>\n",
       "<style scoped>\n",
       "    .dataframe tbody tr th:only-of-type {\n",
       "        vertical-align: middle;\n",
       "    }\n",
       "\n",
       "    .dataframe tbody tr th {\n",
       "        vertical-align: top;\n",
       "    }\n",
       "\n",
       "    .dataframe thead th {\n",
       "        text-align: right;\n",
       "    }\n",
       "</style>\n",
       "<table border=\"1\" class=\"dataframe\">\n",
       "  <thead>\n",
       "    <tr style=\"text-align: right;\">\n",
       "      <th></th>\n",
       "      <th>Product_Name</th>\n",
       "      <th>Price</th>\n",
       "      <th>Rating</th>\n",
       "      <th>RAM</th>\n",
       "      <th>Display</th>\n",
       "      <th>Camera</th>\n",
       "      <th>Battery</th>\n",
       "      <th>Processor</th>\n",
       "      <th>Price1</th>\n",
       "      <th>RAM1</th>\n",
       "      <th>ROM</th>\n",
       "      <th>Expandable_Memory</th>\n",
       "      <th>Rear_Camera</th>\n",
       "      <th>Front_Camera</th>\n",
       "      <th>Battery1</th>\n",
       "      <th>Processor1</th>\n",
       "      <th>Brand</th>\n",
       "      <th>Brand_Name</th>\n",
       "      <th>Processor_Category</th>\n",
       "    </tr>\n",
       "  </thead>\n",
       "  <tbody>\n",
       "    <tr>\n",
       "      <td>0</td>\n",
       "      <td>Motorola G8 Power Lite (Arctic Blue, 64 GB)</td>\n",
       "      <td>₹9,499</td>\n",
       "      <td>4.5</td>\n",
       "      <td>4 GB RAM | 64 GB ROM | Expandable Upto 256 GB</td>\n",
       "      <td>6.5</td>\n",
       "      <td>16MP + 2MP + 2MP | 8MP Front Camera</td>\n",
       "      <td>5000</td>\n",
       "      <td>MediaTek Helio P35 Processor</td>\n",
       "      <td>9499</td>\n",
       "      <td>4 GB RAM</td>\n",
       "      <td>64 GB ROM</td>\n",
       "      <td>Expandable Upto 256 GB</td>\n",
       "      <td>16MP + 2MP + 2MP</td>\n",
       "      <td>8MP</td>\n",
       "      <td>5000</td>\n",
       "      <td>MediaTek Helio P35</td>\n",
       "      <td>Motorola</td>\n",
       "      <td>Motorola</td>\n",
       "      <td>MediaTek</td>\n",
       "    </tr>\n",
       "    <tr>\n",
       "      <td>1</td>\n",
       "      <td>Motorola G8 Power Lite (Arctic Blue, 64 GB)</td>\n",
       "      <td>₹9,499</td>\n",
       "      <td>4.5</td>\n",
       "      <td>4 GB RAM | 64 GB ROM | Expandable Upto 256 GB</td>\n",
       "      <td>6.5</td>\n",
       "      <td>16MP + 2MP + 2MP | 8MP Front Camera</td>\n",
       "      <td>5000</td>\n",
       "      <td>MediaTek Helio P35 Processor</td>\n",
       "      <td>9499</td>\n",
       "      <td>4 GB RAM</td>\n",
       "      <td>64 GB ROM</td>\n",
       "      <td>Expandable Upto 256 GB</td>\n",
       "      <td>16MP + 2MP + 2MP</td>\n",
       "      <td>8MP</td>\n",
       "      <td>5000</td>\n",
       "      <td>MediaTek Helio P35</td>\n",
       "      <td>Motorola</td>\n",
       "      <td>Motorola</td>\n",
       "      <td>MediaTek</td>\n",
       "    </tr>\n",
       "    <tr>\n",
       "      <td>2</td>\n",
       "      <td>Realme 6 Pro (Lightning Blue, 64 GB)</td>\n",
       "      <td>₹17,999</td>\n",
       "      <td>4.5</td>\n",
       "      <td>6 GB RAM | 64 GB ROM | Expandable Upto 256 GB</td>\n",
       "      <td>6.6</td>\n",
       "      <td>64MP + 12MP + 8MP + 2MP | 16MP + 8MP Dual Fron...</td>\n",
       "      <td>4300</td>\n",
       "      <td>Snapdragon 720G Processor</td>\n",
       "      <td>17999</td>\n",
       "      <td>6 GB RAM</td>\n",
       "      <td>64 GB ROM</td>\n",
       "      <td>Expandable Upto 256 GB</td>\n",
       "      <td>64MP + 12MP + 8MP + 2MP</td>\n",
       "      <td>16MP + 8MP Dual</td>\n",
       "      <td>4300</td>\n",
       "      <td>Snapdragon 720G</td>\n",
       "      <td>Realme</td>\n",
       "      <td>Realme</td>\n",
       "      <td>Qualcomm</td>\n",
       "    </tr>\n",
       "    <tr>\n",
       "      <td>3</td>\n",
       "      <td>Realme 6 Pro (Lightning Blue, 64 GB)</td>\n",
       "      <td>₹17,999</td>\n",
       "      <td>4.5</td>\n",
       "      <td>6 GB RAM | 64 GB ROM | Expandable Upto 256 GB</td>\n",
       "      <td>6.6</td>\n",
       "      <td>64MP + 12MP + 8MP + 2MP | 16MP + 8MP Dual Fron...</td>\n",
       "      <td>4300</td>\n",
       "      <td>Snapdragon 720G Processor</td>\n",
       "      <td>17999</td>\n",
       "      <td>6 GB RAM</td>\n",
       "      <td>64 GB ROM</td>\n",
       "      <td>Expandable Upto 256 GB</td>\n",
       "      <td>64MP + 12MP + 8MP + 2MP</td>\n",
       "      <td>16MP + 8MP Dual</td>\n",
       "      <td>4300</td>\n",
       "      <td>Snapdragon 720G</td>\n",
       "      <td>Realme</td>\n",
       "      <td>Realme</td>\n",
       "      <td>Qualcomm</td>\n",
       "    </tr>\n",
       "    <tr>\n",
       "      <td>4</td>\n",
       "      <td>Motorola G8 Power Lite (Royal Blue, 64 GB)</td>\n",
       "      <td>₹9,499</td>\n",
       "      <td>4.5</td>\n",
       "      <td>4 GB RAM | 64 GB ROM | Expandable Upto 256 GB</td>\n",
       "      <td>6.5</td>\n",
       "      <td>16MP + 2MP + 2MP | 8MP Front Camera</td>\n",
       "      <td>5000</td>\n",
       "      <td>MediaTek Helio P35 Processor</td>\n",
       "      <td>9499</td>\n",
       "      <td>4 GB RAM</td>\n",
       "      <td>64 GB ROM</td>\n",
       "      <td>Expandable Upto 256 GB</td>\n",
       "      <td>16MP + 2MP + 2MP</td>\n",
       "      <td>8MP</td>\n",
       "      <td>5000</td>\n",
       "      <td>MediaTek Helio P35</td>\n",
       "      <td>Motorola</td>\n",
       "      <td>Motorola</td>\n",
       "      <td>MediaTek</td>\n",
       "    </tr>\n",
       "  </tbody>\n",
       "</table>\n",
       "</div>"
      ],
      "text/plain": [
       "                                  Product_Name    Price  Rating  \\\n",
       "0  Motorola G8 Power Lite (Arctic Blue, 64 GB)   ₹9,499     4.5   \n",
       "1  Motorola G8 Power Lite (Arctic Blue, 64 GB)   ₹9,499     4.5   \n",
       "2         Realme 6 Pro (Lightning Blue, 64 GB)  ₹17,999     4.5   \n",
       "3         Realme 6 Pro (Lightning Blue, 64 GB)  ₹17,999     4.5   \n",
       "4   Motorola G8 Power Lite (Royal Blue, 64 GB)   ₹9,499     4.5   \n",
       "\n",
       "                                             RAM Display  \\\n",
       "0  4 GB RAM | 64 GB ROM | Expandable Upto 256 GB     6.5   \n",
       "1  4 GB RAM | 64 GB ROM | Expandable Upto 256 GB     6.5   \n",
       "2  6 GB RAM | 64 GB ROM | Expandable Upto 256 GB     6.6   \n",
       "3  6 GB RAM | 64 GB ROM | Expandable Upto 256 GB     6.6   \n",
       "4  4 GB RAM | 64 GB ROM | Expandable Upto 256 GB     6.5   \n",
       "\n",
       "                                              Camera Battery  \\\n",
       "0                16MP + 2MP + 2MP | 8MP Front Camera    5000   \n",
       "1                16MP + 2MP + 2MP | 8MP Front Camera    5000   \n",
       "2  64MP + 12MP + 8MP + 2MP | 16MP + 8MP Dual Fron...    4300   \n",
       "3  64MP + 12MP + 8MP + 2MP | 16MP + 8MP Dual Fron...    4300   \n",
       "4                16MP + 2MP + 2MP | 8MP Front Camera    5000   \n",
       "\n",
       "                      Processor  Price1       RAM1          ROM  \\\n",
       "0  MediaTek Helio P35 Processor    9499  4 GB RAM    64 GB ROM    \n",
       "1  MediaTek Helio P35 Processor    9499  4 GB RAM    64 GB ROM    \n",
       "2     Snapdragon 720G Processor   17999  6 GB RAM    64 GB ROM    \n",
       "3     Snapdragon 720G Processor   17999  6 GB RAM    64 GB ROM    \n",
       "4  MediaTek Helio P35 Processor    9499  4 GB RAM    64 GB ROM    \n",
       "\n",
       "         Expandable_Memory               Rear_Camera      Front_Camera  \\\n",
       "0   Expandable Upto 256 GB         16MP + 2MP + 2MP                8MP   \n",
       "1   Expandable Upto 256 GB         16MP + 2MP + 2MP                8MP   \n",
       "2   Expandable Upto 256 GB  64MP + 12MP + 8MP + 2MP    16MP + 8MP Dual   \n",
       "3   Expandable Upto 256 GB  64MP + 12MP + 8MP + 2MP    16MP + 8MP Dual   \n",
       "4   Expandable Upto 256 GB         16MP + 2MP + 2MP                8MP   \n",
       "\n",
       "   Battery1          Processor1     Brand Brand_Name Processor_Category  \n",
       "0      5000  MediaTek Helio P35  Motorola   Motorola           MediaTek  \n",
       "1      5000  MediaTek Helio P35  Motorola   Motorola           MediaTek  \n",
       "2      4300     Snapdragon 720G    Realme     Realme           Qualcomm  \n",
       "3      4300     Snapdragon 720G    Realme     Realme           Qualcomm  \n",
       "4      5000  MediaTek Helio P35  Motorola   Motorola           MediaTek  "
      ]
     },
     "execution_count": 36,
     "metadata": {},
     "output_type": "execute_result"
    }
   ],
   "source": [
    "data4.head()"
   ]
  },
  {
   "cell_type": "code",
   "execution_count": 37,
   "metadata": {},
   "outputs": [],
   "source": [
    "data5 = pd.DataFrame(data4)"
   ]
  },
  {
   "cell_type": "code",
   "execution_count": 38,
   "metadata": {},
   "outputs": [],
   "source": [
    "data5['Rating'] = data5['Rating'].astype(str)\n",
    "data5['Price'] = data5['Price'].astype(str)"
   ]
  },
  {
   "cell_type": "code",
   "execution_count": 39,
   "metadata": {},
   "outputs": [
    {
     "data": {
      "text/plain": [
       "Product_Name          object\n",
       "Price                 object\n",
       "Rating                object\n",
       "RAM                   object\n",
       "Display               object\n",
       "Camera                object\n",
       "Battery               object\n",
       "Processor             object\n",
       "Price1                 int64\n",
       "RAM1                  object\n",
       "ROM                   object\n",
       "Expandable_Memory     object\n",
       "Rear_Camera           object\n",
       "Front_Camera          object\n",
       "Battery1               int64\n",
       "Processor1            object\n",
       "Brand                 object\n",
       "Brand_Name            object\n",
       "Processor_Category    object\n",
       "dtype: object"
      ]
     },
     "execution_count": 39,
     "metadata": {},
     "output_type": "execute_result"
    }
   ],
   "source": [
    "data5.dtypes"
   ]
  },
  {
   "cell_type": "code",
   "execution_count": 40,
   "metadata": {},
   "outputs": [],
   "source": [
    "data4['RAM'] = data4['RAM'].str.replace(' RAM ','')"
   ]
  },
  {
   "cell_type": "code",
   "execution_count": 41,
   "metadata": {},
   "outputs": [
    {
     "data": {
      "text/plain": [
       "array(['4 GB| 64 GB ROM | Expandable Upto 256 GB',\n",
       "       '6 GB| 64 GB ROM | Expandable Upto 256 GB',\n",
       "       '6 GB| 128 GB ROM | Expandable Upto 512 GB',\n",
       "       '4 GB| 128 GB ROM | Expandable Upto 256 GB',\n",
       "       '6 GB| 128 GB ROM | Expandable Upto 1 TB',\n",
       "       '3 GB| 64 GB ROM | Expandable Upto 256 GB', '3 GB| 32 GB ROM',\n",
       "       '4 GB| 64 GB ROM | Expandable Upto 512 GB',\n",
       "       '6 GB| 64 GB ROM | Expandable Upto 512 GB', '8 GB| 128 GB ROM',\n",
       "       '4 GB| 32 GB ROM | Expandable Upto 256 GB',\n",
       "       '2 GB| 16 GB ROM | Expandable Upto 128 GB',\n",
       "       '3 GB| 32 GB ROM | Expandable Upto 128 GB', '2 GB| 16 GB ROM',\n",
       "       '12 GB| 256 GB ROM', '8 GB| 128 GB ROM | Expandable Upto 512 GB',\n",
       "       '8 GB| 256 GB ROM', '4 GB| 64 GB ROM | Expandable Upto 128 GB',\n",
       "       '3 GB| 32 GB ROM | Expandable Upto 512 GB', '6 GB| 128 GB ROM',\n",
       "       '4 GB| 64 GB ROM', '8 GB| 128 GB ROM | Expandable Upto 256 GB',\n",
       "       '1 GB| 8 GB ROM', '4 GB| 256 GB ROM | Expandable Upto 400 GB',\n",
       "       '12 GB| 256 GB ROM | Expandable Upto 1 TB',\n",
       "       '2 GB| 16 GB ROM | Expandable Upto 32 GB', '2 GB| 32 GB ROM',\n",
       "       '8 GB| 512 GB ROM | Expandable Upto 512 GB',\n",
       "       '3 GB| 32 GB ROM | Expandable Upto 2 TB',\n",
       "       '1 GB| 8 GB ROM | Expandable Upto 32 GB',\n",
       "       '4 GB| 128 GB ROM | Expandable Upto 512 GB',\n",
       "       '1 GB| 4 GB ROM | Expandable Upto 32 GB',\n",
       "       '3 GB| 32 GB ROM | Expandable Upto 256 GB', '4 GB| 128 GB ROM',\n",
       "       '2 GB| 16 GB ROM | Expandable Upto 400 GB',\n",
       "       '2 GB| 32 GB ROM | Expandable Upto 512 GB',\n",
       "       '12 GB| 1 TB ROM | Expandable Upto 512 GB',\n",
       "       '3 GB| 16 GB ROM | Expandable Upto 256 GB',\n",
       "       '4 GB| 32 GB ROM | Expandable Upto 128 GB', '6 GB| 64 GB ROM',\n",
       "       '6 GB| 128 GB ROM | Expandable Upto 2 TB',\n",
       "       '1 GB| 16 GB ROM | Expandable Upto 128 GB',\n",
       "       '2 GB| 16 GB ROM | Expandable Upto 256 GB',\n",
       "       '3 GB| 16 GB ROM | Expandable Upto 128 GB',\n",
       "       '1 GB| 8 GB ROM | Expandable Upto 256 GB',\n",
       "       '1 GB| 8 GB ROM | Expandable Upto 64 GB', '3 GB| 64 GB ROM',\n",
       "       '4 GB| 32 GB ROM | Expandable Upto 200 GB',\n",
       "       '2 GB| 32 GB ROM | Expandable Upto 256 GB',\n",
       "       '4 GB| 64 GB ROM | Expandable Upto 2 TB',\n",
       "       '8 GB| 128 GB ROM | Expandable Upto 1 TB',\n",
       "       '3 GB| 64 GB ROM | Expandable Upto 128 GB',\n",
       "       '3 GB| 32 GB ROM | Expandable Upto 128',\n",
       "       '1 GB| 16 GB ROM | Expandable Upto 32 GB', '4 GB| 32 GB ROM',\n",
       "       '1 GB| 16 GB ROM', '3 GB| 32 GB ROM | Expandable Upto 32 GB',\n",
       "       '1 GB| 8 GB ROM | Expandable Upto 128 GB',\n",
       "       '1.5 GB| 8 GB ROM | Expandable Upto 64 GB',\n",
       "       '4 GB| 32 GB ROM | Expandable Upto 64 GB',\n",
       "       '3 GB| 16 GB ROM | Expandable Upto 512 GB',\n",
       "       '3 GB| 32 GB ROM | Expandable Upto 400 GB',\n",
       "       '2 GB| 16 GB ROM | Expandable Upto 64 GB', '3 GB| 16 GB ROM',\n",
       "       '4 GB| 64 GB ROM | Expandable Upto 400 GB',\n",
       "       '8 GB| 256 GB ROM | Expandable Upto 512 GB',\n",
       "       '2 GB| 16 GB ROM | Expandable Upto 128',\n",
       "       '6 GB| 128 GB ROM | Expandable Upto 256 GB',\n",
       "       '12 GB| 128 GB ROM | Expandable Upto 1 TB',\n",
       "       '6 GB| 64 GB ROM | Expandable Upto 128 GB'], dtype=object)"
      ]
     },
     "execution_count": 41,
     "metadata": {},
     "output_type": "execute_result"
    }
   ],
   "source": [
    "data4['RAM'].unique()"
   ]
  },
  {
   "cell_type": "code",
   "execution_count": 42,
   "metadata": {},
   "outputs": [
    {
     "data": {
      "text/plain": [
       "Product_Name          object\n",
       "Price                 object\n",
       "Rating                object\n",
       "RAM                   object\n",
       "Display               object\n",
       "Camera                object\n",
       "Battery               object\n",
       "Processor             object\n",
       "Price1                 int64\n",
       "RAM1                  object\n",
       "ROM                   object\n",
       "Expandable_Memory     object\n",
       "Rear_Camera           object\n",
       "Front_Camera          object\n",
       "Battery1               int64\n",
       "Processor1            object\n",
       "Brand                 object\n",
       "Brand_Name            object\n",
       "Processor_Category    object\n",
       "dtype: object"
      ]
     },
     "execution_count": 42,
     "metadata": {},
     "output_type": "execute_result"
    }
   ],
   "source": [
    "data5.dtypes"
   ]
  },
  {
   "cell_type": "code",
   "execution_count": null,
   "metadata": {},
   "outputs": [],
   "source": []
  }
 ],
 "metadata": {
  "kernelspec": {
   "display_name": "Python 3",
   "language": "python",
   "name": "python3"
  },
  "language_info": {
   "codemirror_mode": {
    "name": "ipython",
    "version": 3
   },
   "file_extension": ".py",
   "mimetype": "text/x-python",
   "name": "python",
   "nbconvert_exporter": "python",
   "pygments_lexer": "ipython3",
   "version": "3.7.4"
  }
 },
 "nbformat": 4,
 "nbformat_minor": 2
}
