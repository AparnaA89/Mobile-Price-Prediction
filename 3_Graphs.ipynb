{
 "cells": [
  {
   "cell_type": "code",
   "execution_count": 1,
   "metadata": {},
   "outputs": [],
   "source": [
    "import pandas as pd\n",
    "import numpy as np\n",
    "import seaborn as sns\n",
    "import matplotlib.pyplot as plt\n",
    "from pandas.plotting import table\n",
    "%matplotlib inline"
   ]
  },
  {
   "cell_type": "code",
   "execution_count": 2,
   "metadata": {},
   "outputs": [],
   "source": [
    "data = pd.read_excel(\"D:\\\\Jupyter Notebook\\\\Assignment 2\\\\V2\\\\FK_SP_Multiple_Pgs_Combined_Cleansed_V1_V3_1.xlsx\")"
   ]
  },
  {
   "cell_type": "code",
   "execution_count": 3,
   "metadata": {},
   "outputs": [
    {
     "data": {
      "text/plain": [
       "(996, 20)"
      ]
     },
     "execution_count": 3,
     "metadata": {},
     "output_type": "execute_result"
    }
   ],
   "source": [
    "data.shape"
   ]
  },
  {
   "cell_type": "code",
   "execution_count": 4,
   "metadata": {},
   "outputs": [],
   "source": [
    "data1=pd.DataFrame(data)\n",
    "data1 = data1.drop(['Unnamed: 0','RAM','Camera','Price','Battery1','Brand','Processor'], axis = 1)"
   ]
  },
  {
   "cell_type": "code",
   "execution_count": 5,
   "metadata": {},
   "outputs": [
    {
     "data": {
      "text/html": [
       "<div>\n",
       "<style scoped>\n",
       "    .dataframe tbody tr th:only-of-type {\n",
       "        vertical-align: middle;\n",
       "    }\n",
       "\n",
       "    .dataframe tbody tr th {\n",
       "        vertical-align: top;\n",
       "    }\n",
       "\n",
       "    .dataframe thead th {\n",
       "        text-align: right;\n",
       "    }\n",
       "</style>\n",
       "<table border=\"1\" class=\"dataframe\">\n",
       "  <thead>\n",
       "    <tr style=\"text-align: right;\">\n",
       "      <th></th>\n",
       "      <th>Product_Name</th>\n",
       "      <th>Rating</th>\n",
       "      <th>Display</th>\n",
       "      <th>Battery</th>\n",
       "      <th>Price1</th>\n",
       "      <th>RAM1</th>\n",
       "      <th>ROM</th>\n",
       "      <th>Expandable_Memory</th>\n",
       "      <th>Rear_Camera</th>\n",
       "      <th>Front_Camera</th>\n",
       "      <th>Processor1</th>\n",
       "      <th>Brand_Name</th>\n",
       "      <th>Processor_Category</th>\n",
       "    </tr>\n",
       "  </thead>\n",
       "  <tbody>\n",
       "    <tr>\n",
       "      <td>0</td>\n",
       "      <td>Motorola G8 Power Lite (Arctic Blue, 64 GB)</td>\n",
       "      <td>4.5</td>\n",
       "      <td>6.5</td>\n",
       "      <td>5000</td>\n",
       "      <td>9499</td>\n",
       "      <td>4 GB RAM</td>\n",
       "      <td>64 GB ROM</td>\n",
       "      <td>Expandable Upto 256 GB</td>\n",
       "      <td>16MP + 2MP + 2MP</td>\n",
       "      <td>8MP</td>\n",
       "      <td>MediaTek Helio P35</td>\n",
       "      <td>Motorola</td>\n",
       "      <td>MediaTek</td>\n",
       "    </tr>\n",
       "    <tr>\n",
       "      <td>1</td>\n",
       "      <td>Motorola G8 Power Lite (Arctic Blue, 64 GB)</td>\n",
       "      <td>4.5</td>\n",
       "      <td>6.5</td>\n",
       "      <td>5000</td>\n",
       "      <td>9499</td>\n",
       "      <td>4 GB RAM</td>\n",
       "      <td>64 GB ROM</td>\n",
       "      <td>Expandable Upto 256 GB</td>\n",
       "      <td>16MP + 2MP + 2MP</td>\n",
       "      <td>8MP</td>\n",
       "      <td>MediaTek Helio P35</td>\n",
       "      <td>Motorola</td>\n",
       "      <td>MediaTek</td>\n",
       "    </tr>\n",
       "    <tr>\n",
       "      <td>2</td>\n",
       "      <td>Realme 6 Pro (Lightning Blue, 64 GB)</td>\n",
       "      <td>4.5</td>\n",
       "      <td>6.6</td>\n",
       "      <td>4300</td>\n",
       "      <td>17999</td>\n",
       "      <td>6 GB RAM</td>\n",
       "      <td>64 GB ROM</td>\n",
       "      <td>Expandable Upto 256 GB</td>\n",
       "      <td>64MP + 12MP + 8MP + 2MP</td>\n",
       "      <td>16MP + 8MP Dual</td>\n",
       "      <td>Snapdragon 720G</td>\n",
       "      <td>Realme</td>\n",
       "      <td>Qualcomm</td>\n",
       "    </tr>\n",
       "    <tr>\n",
       "      <td>3</td>\n",
       "      <td>Realme 6 Pro (Lightning Blue, 64 GB)</td>\n",
       "      <td>4.5</td>\n",
       "      <td>6.6</td>\n",
       "      <td>4300</td>\n",
       "      <td>17999</td>\n",
       "      <td>6 GB RAM</td>\n",
       "      <td>64 GB ROM</td>\n",
       "      <td>Expandable Upto 256 GB</td>\n",
       "      <td>64MP + 12MP + 8MP + 2MP</td>\n",
       "      <td>16MP + 8MP Dual</td>\n",
       "      <td>Snapdragon 720G</td>\n",
       "      <td>Realme</td>\n",
       "      <td>Qualcomm</td>\n",
       "    </tr>\n",
       "    <tr>\n",
       "      <td>4</td>\n",
       "      <td>Motorola G8 Power Lite (Royal Blue, 64 GB)</td>\n",
       "      <td>4.5</td>\n",
       "      <td>6.5</td>\n",
       "      <td>5000</td>\n",
       "      <td>9499</td>\n",
       "      <td>4 GB RAM</td>\n",
       "      <td>64 GB ROM</td>\n",
       "      <td>Expandable Upto 256 GB</td>\n",
       "      <td>16MP + 2MP + 2MP</td>\n",
       "      <td>8MP</td>\n",
       "      <td>MediaTek Helio P35</td>\n",
       "      <td>Motorola</td>\n",
       "      <td>MediaTek</td>\n",
       "    </tr>\n",
       "  </tbody>\n",
       "</table>\n",
       "</div>"
      ],
      "text/plain": [
       "                                  Product_Name  Rating  Display Battery  \\\n",
       "0  Motorola G8 Power Lite (Arctic Blue, 64 GB)     4.5      6.5    5000   \n",
       "1  Motorola G8 Power Lite (Arctic Blue, 64 GB)     4.5      6.5    5000   \n",
       "2         Realme 6 Pro (Lightning Blue, 64 GB)     4.5      6.6    4300   \n",
       "3         Realme 6 Pro (Lightning Blue, 64 GB)     4.5      6.6    4300   \n",
       "4   Motorola G8 Power Lite (Royal Blue, 64 GB)     4.5      6.5    5000   \n",
       "\n",
       "   Price1       RAM1          ROM        Expandable_Memory  \\\n",
       "0    9499  4 GB RAM    64 GB ROM    Expandable Upto 256 GB   \n",
       "1    9499  4 GB RAM    64 GB ROM    Expandable Upto 256 GB   \n",
       "2   17999  6 GB RAM    64 GB ROM    Expandable Upto 256 GB   \n",
       "3   17999  6 GB RAM    64 GB ROM    Expandable Upto 256 GB   \n",
       "4    9499  4 GB RAM    64 GB ROM    Expandable Upto 256 GB   \n",
       "\n",
       "                Rear_Camera      Front_Camera          Processor1 Brand_Name  \\\n",
       "0         16MP + 2MP + 2MP                8MP  MediaTek Helio P35   Motorola   \n",
       "1         16MP + 2MP + 2MP                8MP  MediaTek Helio P35   Motorola   \n",
       "2  64MP + 12MP + 8MP + 2MP    16MP + 8MP Dual     Snapdragon 720G     Realme   \n",
       "3  64MP + 12MP + 8MP + 2MP    16MP + 8MP Dual     Snapdragon 720G     Realme   \n",
       "4         16MP + 2MP + 2MP                8MP  MediaTek Helio P35   Motorola   \n",
       "\n",
       "  Processor_Category  \n",
       "0           MediaTek  \n",
       "1           MediaTek  \n",
       "2           Qualcomm  \n",
       "3           Qualcomm  \n",
       "4           MediaTek  "
      ]
     },
     "execution_count": 5,
     "metadata": {},
     "output_type": "execute_result"
    }
   ],
   "source": [
    "data1.head()"
   ]
  },
  {
   "cell_type": "code",
   "execution_count": 6,
   "metadata": {},
   "outputs": [
    {
     "data": {
      "text/plain": [
       " Expandable Upto 256 GB    338\n",
       "Blank                      258\n",
       " Expandable Upto 512 GB    178\n",
       " Expandable Upto 128 GB     86\n",
       " Expandable Upto 32 GB      48\n",
       " Expandable Upto 1 TB       28\n",
       " Expandable Upto 64 GB      22\n",
       " Expandable Upto 2 TB       20\n",
       " Expandable Upto 400 GB     14\n",
       " Expandable Upto 200 GB      4\n",
       "Name: Expandable_Memory, dtype: int64"
      ]
     },
     "execution_count": 6,
     "metadata": {},
     "output_type": "execute_result"
    }
   ],
   "source": [
    "#temp = data1.Expandable_Memory.fillna(\"NULL\")\n",
    "#data1 = data1.replace(r'^\\s*$', np.NaN, regex=True)\n",
    "data1['Expandable_Memory'].value_counts()"
   ]
  },
  {
   "cell_type": "code",
   "execution_count": 7,
   "metadata": {},
   "outputs": [
    {
     "data": {
      "text/plain": [
       "Samsung      356\n",
       "Vivo         218\n",
       "Realme        86\n",
       "Xiaomi        78\n",
       "Nokia         74\n",
       "Motorola      46\n",
       "Micromax      40\n",
       "LG            32\n",
       "Lenovo        20\n",
       "Alcatel       14\n",
       "Asus          14\n",
       "Panasonic     12\n",
       "Google         6\n",
       "Name: Brand_Name, dtype: int64"
      ]
     },
     "execution_count": 7,
     "metadata": {},
     "output_type": "execute_result"
    }
   ],
   "source": [
    "data1['Brand_Name'].value_counts()"
   ]
  },
  {
   "cell_type": "code",
   "execution_count": 8,
   "metadata": {},
   "outputs": [
    {
     "data": {
      "text/plain": [
       " Expandable Upto 256 GB    338\n",
       "Blank                      258\n",
       " Expandable Upto 512 GB    178\n",
       " Expandable Upto 128 GB     86\n",
       " Expandable Upto 32 GB      48\n",
       " Expandable Upto 1 TB       28\n",
       " Expandable Upto 64 GB      22\n",
       " Expandable Upto 2 TB       20\n",
       " Expandable Upto 400 GB     14\n",
       " Expandable Upto 200 GB      4\n",
       "Name: Expandable_Memory, dtype: int64"
      ]
     },
     "execution_count": 8,
     "metadata": {},
     "output_type": "execute_result"
    }
   ],
   "source": [
    "data1['Expandable_Memory'].value_counts()"
   ]
  },
  {
   "cell_type": "code",
   "execution_count": 9,
   "metadata": {},
   "outputs": [
    {
     "data": {
      "text/plain": [
       "Product_Name           object\n",
       "Rating                float64\n",
       "Display               float64\n",
       "Battery                object\n",
       "Price1                  int64\n",
       "RAM1                   object\n",
       "ROM                    object\n",
       "Expandable_Memory      object\n",
       "Rear_Camera            object\n",
       "Front_Camera           object\n",
       "Processor1             object\n",
       "Brand_Name             object\n",
       "Processor_Category     object\n",
       "dtype: object"
      ]
     },
     "execution_count": 9,
     "metadata": {},
     "output_type": "execute_result"
    }
   ],
   "source": [
    "#data1['Price']=data1['Price'].str.replace('₹','')\n",
    "#data1['Price']=data1['Price'].str.replace(',','')\n",
    "#data1['Price'] = data1['Price'].astype(int)\n",
    "data1.dtypes"
   ]
  },
  {
   "cell_type": "code",
   "execution_count": 10,
   "metadata": {},
   "outputs": [],
   "source": [
    "data1.columns = ['Product_Name','Rating','Display','Battery','Price','RAM','ROM','Expandable_Memory','Rear_Camera','Front_Camera','Processor','Brand_Name','Processor_Category']"
   ]
  },
  {
   "cell_type": "code",
   "execution_count": 11,
   "metadata": {},
   "outputs": [
    {
     "data": {
      "text/plain": [
       "a. 3.6K-6K      24\n",
       "b. 6K-10K      206\n",
       "c. 10K-15K     264\n",
       "d. 15K-20K     234\n",
       "e. 20K-25K      68\n",
       "f. 25K-30K      52\n",
       "g. 30K-40K      46\n",
       "h. 40K-60K      50\n",
       "i. 60k-1.2L     52\n",
       "Name: Price_Category, dtype: int64"
      ]
     },
     "execution_count": 11,
     "metadata": {},
     "output_type": "execute_result"
    }
   ],
   "source": [
    "data1['Price_Category']=pd.cut(x=data1['Price'],\n",
    "                               bins=[3000, 6000, 10000, 15000,\n",
    "                                     20000, 25000, 30000, 40000,\n",
    "                                     60000,130000], \n",
    "                               labels=['a. 3.6K-6K','b. 6K-10K',\n",
    "                                       'c. 10K-15K', 'd. 15K-20K',\n",
    "                                       'e. 20K-25K','f. 25K-30K',\n",
    "                                       'g. 30K-40K','h. 40K-60K',\n",
    "                                       'i. 60k-1.2L'])\n",
    "data1['Price_Category'].value_counts(sort=False)"
   ]
  },
  {
   "cell_type": "code",
   "execution_count": 12,
   "metadata": {},
   "outputs": [
    {
     "data": {
      "text/plain": [
       "a. 3.6K-6K      2.409639\n",
       "b. 6K-10K      20.682731\n",
       "c. 10K-15K     26.506024\n",
       "d. 15K-20K     23.493976\n",
       "e. 20K-25K      6.827309\n",
       "f. 25K-30K      5.220884\n",
       "g. 30K-40K      4.618474\n",
       "h. 40K-60K      5.020080\n",
       "i. 60k-1.2L     5.220884\n",
       "Name: Price_Category, dtype: float64"
      ]
     },
     "execution_count": 12,
     "metadata": {},
     "output_type": "execute_result"
    }
   ],
   "source": [
    "(data1['Price_Category'].value_counts(sort=False)/\n",
    "     data1['Price_Category'].count())*100"
   ]
  },
  {
   "cell_type": "code",
   "execution_count": 13,
   "metadata": {},
   "outputs": [
    {
     "data": {
      "text/plain": [
       "count     996.000000\n",
       "mean     3682.710843\n",
       "std       857.181299\n",
       "min      1600.000000\n",
       "25%      3000.000000\n",
       "50%      3700.000000\n",
       "75%      4200.000000\n",
       "max      6000.000000\n",
       "Name: Battery, dtype: float64"
      ]
     },
     "execution_count": 13,
     "metadata": {},
     "output_type": "execute_result"
    }
   ],
   "source": [
    "data1['Battery']=data1['Battery'].str.replace(' Li-polymer','')\n",
    "data1['Battery']=data1['Battery'].str.replace(' Li','')\n",
    "data1['Battery'] = data1['Battery'].astype(int)\n",
    "data1['Battery'].describe()"
   ]
  },
  {
   "cell_type": "code",
   "execution_count": 14,
   "metadata": {},
   "outputs": [
    {
     "data": {
      "text/plain": [
       "a. 1200-2100     40\n",
       "b. 2100-3000    248\n",
       "c. 3000-3500    188\n",
       "d. 3500-4000    210\n",
       "e. 4000-5000    302\n",
       "f. 5000-6000      8\n",
       "Name: Battery_Category, dtype: int64"
      ]
     },
     "execution_count": 14,
     "metadata": {},
     "output_type": "execute_result"
    }
   ],
   "source": [
    "data1['Battery_Category']=pd.cut(x=data1['Battery'],bins=[1200, 2100, 3000, 3500, 4000, 5000, 6000], labels=['a. 1200-2100','b. 2100-3000','c. 3000-3500', 'd. 3500-4000','e. 4000-5000', 'f. 5000-6000'])\n",
    "data1['Battery_Category'].value_counts(sort=False)"
   ]
  },
  {
   "cell_type": "code",
   "execution_count": 15,
   "metadata": {},
   "outputs": [],
   "source": [
    "data1['Rating_Category']=pd.cut(x=data1['Rating'],bins=[1,3,4,4.25,4.35,4.45,5], labels=['a. 1-3','b. 3-4', 'c. 4-4.25', 'd. 4.25-4.35', 'e. 4.35-4.45','f. 4.45-5'])"
   ]
  },
  {
   "cell_type": "code",
   "execution_count": 16,
   "metadata": {},
   "outputs": [
    {
     "data": {
      "text/plain": [
       "a. 1-3           12\n",
       "b. 3-4          178\n",
       "c. 4-4.25       164\n",
       "d. 4.25-4.35    166\n",
       "e. 4.35-4.45    280\n",
       "f. 4.45-5       196\n",
       "Name: Rating_Category, dtype: int64"
      ]
     },
     "execution_count": 16,
     "metadata": {},
     "output_type": "execute_result"
    }
   ],
   "source": [
    "data1['Rating_Category'].value_counts(sort=False)"
   ]
  },
  {
   "cell_type": "code",
   "execution_count": 17,
   "metadata": {},
   "outputs": [
    {
     "data": {
      "text/plain": [
       "a. 1-3           1.204819\n",
       "b. 3-4          17.871486\n",
       "c. 4-4.25       16.465863\n",
       "d. 4.25-4.35    16.666667\n",
       "e. 4.35-4.45    28.112450\n",
       "f. 4.45-5       19.678715\n",
       "Name: Rating_Category, dtype: float64"
      ]
     },
     "execution_count": 17,
     "metadata": {},
     "output_type": "execute_result"
    }
   ],
   "source": [
    "(data1['Rating_Category'].value_counts(sort=False)/\n",
    "     data1['Rating_Category'].count())*100"
   ]
  },
  {
   "cell_type": "code",
   "execution_count": 18,
   "metadata": {
    "scrolled": false
   },
   "outputs": [
    {
     "data": {
      "text/plain": [
       "Text(0, 0.5, 'Number of Phones')"
      ]
     },
     "execution_count": 18,
     "metadata": {},
     "output_type": "execute_result"
    },
    {
     "data": {
      "image/png": "[encoded data removed]",
      "text/plain": [
       "<Figure size 720x360 with 1 Axes>"
      ]
     },
     "metadata": {
      "needs_background": "light"
     },
     "output_type": "display_data"
    }
   ],
   "source": [
    "x = data1.groupby('Brand_Name')['Product_Name'].count().sort_values(ascending=False)\n",
    "ax = x.plot(kind='bar', figsize=(10, 5), zorder=2, width=0.85)\n",
    "ax.spines['right'].set_visible(False)\n",
    "ax.spines['top'].set_visible(False)\n",
    "#ax.spines['left'].set_visible(False)\n",
    "#ax.spines['bottom'].set_visible(False)\n",
    "ax.set_title('Brands Considered in the Analysis', weight='bold', size=20)\n",
    "ax.tick_params(axis=\"both\", which=\"both\", bottom=\"off\", top=\"off\", labelbottom=\"on\", left=\"off\", right=\"off\", labelleft=\"on\")\n",
    "vals = ax.get_xticks()\n",
    "for tick in vals:\n",
    "    ax.axvline(x=tick, linestyle='dashed', alpha=0.4, color='#eeeeee', zorder=1)\n",
    "# Set x-axis label\n",
    "ax.set_xlabel(\"Brands Name\", labelpad=10, size=12)\n",
    "# Set y-axis label\n",
    "ax.set_ylabel(\"Number of Phones\", labelpad=20, weight='bold', size=10)\n",
    "\n",
    "#for p in ax.patches:\n",
    "    #width, height = p.get_width(), p.get_height()\n",
    "    #x,y = p.get_xy() \n",
    "    #ax.annotate('{:.0%}'.format(height), (x,y + height + 0.1 ))"
   ]
  },
  {
   "cell_type": "code",
   "execution_count": 19,
   "metadata": {
    "scrolled": true
   },
   "outputs": [
    {
     "data": {
      "text/plain": [
       "Text(0, 0.5, 'Number of Phones')"
      ]
     },
     "execution_count": 19,
     "metadata": {},
     "output_type": "execute_result"
    },
    {
     "data": {
      "image/png": "[encoded data removed]",
      "text/plain": [
       "<Figure size 576x288 with 1 Axes>"
      ]
     },
     "metadata": {
      "needs_background": "light"
     },
     "output_type": "display_data"
    }
   ],
   "source": [
    "x = data1.groupby('Rating_Category')['Product_Name'].count()\n",
    "ax = x.plot(kind='bar', figsize=(8, 4), zorder=2, width=0.55)\n",
    "ax.spines['right'].set_visible(False)\n",
    "ax.spines['top'].set_visible(False)\n",
    "#ax.spines['left'].set_visible(False)\n",
    "#ax.spines['bottom'].set_visible(False)\n",
    "ax.set_title('Summary on Ratings', weight='bold', size=20)\n",
    "ax.tick_params(axis=\"both\", which=\"both\", bottom=\"off\", top=\"off\", labelbottom=\"on\", left=\"off\", right=\"off\", labelleft=\"on\")\n",
    "vals = ax.get_xticks()\n",
    "for tick in vals:\n",
    "    ax.axvline(x=tick, linestyle='dashed', alpha=0.4, color='#eeeeee', zorder=1)\n",
    "# Set x-axis label\n",
    "ax.set_xlabel(\"Rating Category\", labelpad=20, weight='bold', size=10)\n",
    "# Set y-axis label\n",
    "ax.set_ylabel(\"Number of Phones\", labelpad=20, weight='bold', size=10)"
   ]
  },
  {
   "cell_type": "code",
   "execution_count": 20,
   "metadata": {},
   "outputs": [
    {
     "data": {
      "text/plain": [
       "Text(0, 0.5, 'Number of Phones')"
      ]
     },
     "execution_count": 20,
     "metadata": {},
     "output_type": "execute_result"
    },
    {
     "data": {
      "image/png": "[encoded data removed]",
      "text/plain": [
       "<Figure size 576x288 with 1 Axes>"
      ]
     },
     "metadata": {
      "needs_background": "light"
     },
     "output_type": "display_data"
    }
   ],
   "source": [
    "x = data1.groupby('Battery_Category')['Product_Name'].count()\n",
    "ax = x.plot(kind='bar', figsize=(8, 4), zorder=2, width=0.55)\n",
    "ax.spines['right'].set_visible(False)\n",
    "ax.spines['top'].set_visible(False)\n",
    "#ax.spines['left'].set_visible(False)\n",
    "#ax.spines['bottom'].set_visible(False)\n",
    "ax.set_title('Summary on Battery of the Phone', weight='bold', size=20)\n",
    "ax.tick_params(axis=\"both\", which=\"both\", bottom=\"off\", top=\"off\", labelbottom=\"on\", left=\"off\", right=\"off\", labelleft=\"on\")\n",
    "vals = ax.get_xticks()\n",
    "for tick in vals:\n",
    "    ax.axvline(x=tick, linestyle='dashed', alpha=0.4, color='#eeeeee', zorder=1)\n",
    "# Set x-axis label\n",
    "ax.set_xlabel(\"Battery Category\", labelpad=20, weight='bold', size=10)\n",
    "# Set y-axis label\n",
    "ax.set_ylabel(\"Number of Phones\", labelpad=20, weight='bold', size=10)"
   ]
  },
  {
   "cell_type": "code",
   "execution_count": 21,
   "metadata": {},
   "outputs": [
    {
     "data": {
      "text/plain": [
       "a. 1200-2100     40\n",
       "b. 2100-3000    248\n",
       "c. 3000-3500    188\n",
       "d. 3500-4000    210\n",
       "e. 4000-5000    302\n",
       "f. 5000-6000      8\n",
       "Name: Battery_Category, dtype: int64"
      ]
     },
     "execution_count": 21,
     "metadata": {},
     "output_type": "execute_result"
    }
   ],
   "source": [
    "data1['Battery_Category'].value_counts(sort=False)"
   ]
  },
  {
   "cell_type": "code",
   "execution_count": 22,
   "metadata": {},
   "outputs": [
    {
     "data": {
      "text/plain": [
       "a. 1200-2100     4.016064\n",
       "b. 2100-3000    24.899598\n",
       "c. 3000-3500    18.875502\n",
       "d. 3500-4000    21.084337\n",
       "e. 4000-5000    30.321285\n",
       "f. 5000-6000     0.803213\n",
       "Name: Battery_Category, dtype: float64"
      ]
     },
     "execution_count": 22,
     "metadata": {},
     "output_type": "execute_result"
    }
   ],
   "source": [
    "(data1['Battery_Category'].value_counts(sort=False)/\n",
    "     data1['Battery_Category'].count())*100"
   ]
  },
  {
   "cell_type": "code",
   "execution_count": 23,
   "metadata": {},
   "outputs": [
    {
     "data": {
      "text/plain": [
       "Exynos      184\n",
       "Intel        10\n",
       "MediaTek    182\n",
       "Qualcomm    350\n",
       "Blank       270\n",
       "Name: Processor_Category, dtype: int64"
      ]
     },
     "execution_count": 23,
     "metadata": {},
     "output_type": "execute_result"
    }
   ],
   "source": [
    "data1['Processor_Category'].value_counts(sort=False)"
   ]
  },
  {
   "cell_type": "code",
   "execution_count": 24,
   "metadata": {},
   "outputs": [
    {
     "data": {
      "text/plain": [
       "Exynos      18.473896\n",
       "Intel        1.004016\n",
       "MediaTek    18.273092\n",
       "Qualcomm    35.140562\n",
       "Blank       27.108434\n",
       "Name: Processor_Category, dtype: float64"
      ]
     },
     "execution_count": 24,
     "metadata": {},
     "output_type": "execute_result"
    }
   ],
   "source": [
    "(data1['Processor_Category'].value_counts(sort=False)/\n",
    "     data1['Processor_Category'].count())*100"
   ]
  },
  {
   "cell_type": "code",
   "execution_count": 25,
   "metadata": {},
   "outputs": [
    {
     "data": {
      "text/plain": [
       "Text(0, 0.5, 'Number of Phones')"
      ]
     },
     "execution_count": 25,
     "metadata": {},
     "output_type": "execute_result"
    },
    {
     "data": {
      "image/png": "[encoded data removed]",
      "text/plain": [
       "<Figure size 576x288 with 1 Axes>"
      ]
     },
     "metadata": {
      "needs_background": "light"
     },
     "output_type": "display_data"
    }
   ],
   "source": [
    "x = data1.groupby('Processor_Category')['Product_Name'].count().sort_values()\n",
    "ax = x.plot(kind='barh', figsize=(8, 4), zorder=2, width=0.55)\n",
    "ax.spines['right'].set_visible(False)\n",
    "ax.spines['top'].set_visible(False)\n",
    "#ax.spines['left'].set_visible(False)\n",
    "#ax.spines['bottom'].set_visible(False)\n",
    "ax.set_title('Summary on Ratings', weight='bold', size=20)\n",
    "ax.tick_params(axis=\"both\", which=\"both\", bottom=\"off\", top=\"off\", labelbottom=\"on\", left=\"off\", right=\"off\", labelleft=\"on\")\n",
    "vals = ax.get_xticks()\n",
    "for tick in vals:\n",
    "    ax.axvline(x=tick, linestyle='dashed', alpha=0.4, color='#eeeeee', zorder=1)\n",
    "# Set x-axis label\n",
    "ax.set_xlabel(\"Processor Category\", labelpad=20, weight='bold', size=10)\n",
    "# Set y-axis label\n",
    "ax.set_ylabel(\"Number of Phones\", labelpad=20, weight='bold', size=10)"
   ]
  },
  {
   "cell_type": "code",
   "execution_count": 26,
   "metadata": {},
   "outputs": [
    {
     "data": {
      "text/plain": [
       "Exynos      184\n",
       "Intel        10\n",
       "MediaTek    182\n",
       "Qualcomm    350\n",
       "Blank       270\n",
       "Name: Processor_Category, dtype: int64"
      ]
     },
     "execution_count": 26,
     "metadata": {},
     "output_type": "execute_result"
    }
   ],
   "source": [
    "data1['Processor_Category'].value_counts(sort=False)"
   ]
  },
  {
   "cell_type": "code",
   "execution_count": 27,
   "metadata": {},
   "outputs": [
    {
     "data": {
      "image/png": "[encoded data removed]",
      "text/plain": [
       "<Figure size 432x288 with 1 Axes>"
      ]
     },
     "metadata": {},
     "output_type": "display_data"
    }
   ],
   "source": [
    "labels = data1['Processor_Category'].astype('category').cat.categories.tolist()\n",
    "counts = data1['Processor_Category'].value_counts()\n",
    "sizes = [counts[var_cat] for var_cat in labels]\n",
    "fig1, ax1 = plt.subplots()\n",
    "ax1.pie(sizes, labels=labels, autopct='%1.1f%%', radius=2) #autopct is show the % on plot\n",
    "#ax1.axis('equal')\n",
    "plt.show()"
   ]
  },
  {
   "cell_type": "code",
   "execution_count": 28,
   "metadata": {},
   "outputs": [
    {
     "data": {
      "text/plain": [
       "8 GB RAM       112\n",
       "4 GB RAM       278\n",
       "6 GB RAM       146\n",
       "1 GB RAM        74\n",
       "1.5 GB RAM       2\n",
       "2 GB RAM       154\n",
       "12 GB RAM       26\n",
       "3 GB RAM       204\n",
       "Name: RAM, dtype: int64"
      ]
     },
     "execution_count": 28,
     "metadata": {},
     "output_type": "execute_result"
    }
   ],
   "source": [
    "data1['RAM'].value_counts(sort=False)"
   ]
  },
  {
   "cell_type": "code",
   "execution_count": 29,
   "metadata": {},
   "outputs": [],
   "source": [
    "#data1 = data1.fillna(data1['Expandable_Memory'].value_counts().index[0])"
   ]
  },
  {
   "cell_type": "code",
   "execution_count": 30,
   "metadata": {},
   "outputs": [
    {
     "data": {
      "text/plain": [
       " Expandable Upto 256 GB    338\n",
       "Blank                      258\n",
       " Expandable Upto 512 GB    178\n",
       " Expandable Upto 128 GB     86\n",
       " Expandable Upto 32 GB      48\n",
       " Expandable Upto 1 TB       28\n",
       " Expandable Upto 64 GB      22\n",
       " Expandable Upto 2 TB       20\n",
       " Expandable Upto 400 GB     14\n",
       " Expandable Upto 200 GB      4\n",
       "Name: Expandable_Memory, dtype: int64"
      ]
     },
     "execution_count": 30,
     "metadata": {},
     "output_type": "execute_result"
    }
   ],
   "source": [
    "data1['Expandable_Memory']=data1['Expandable_Memory'].str.replace('Expandable Upto 128','Expandable Upto 128 GB')\n",
    "data1['Expandable_Memory']=data1['Expandable_Memory'].str.replace('Expandable Upto 128 GB GB','Expandable Upto 128 GB')\n",
    "data1['Expandable_Memory'].value_counts(sort=True)"
   ]
  },
  {
   "cell_type": "code",
   "execution_count": 31,
   "metadata": {},
   "outputs": [
    {
     "data": {
      "text/plain": [
       " 32 GB      48\n",
       " 64 GB      22\n",
       " 200 GB      4\n",
       " 1 TB       28\n",
       " 400 GB     14\n",
       " 256 GB    338\n",
       " 512 GB    178\n",
       " 128 GB     86\n",
       " 2 TB       20\n",
       "Blank      258\n",
       "Name: Expandable_Memory, dtype: int64"
      ]
     },
     "execution_count": 31,
     "metadata": {},
     "output_type": "execute_result"
    }
   ],
   "source": [
    "data1['Expandable_Memory']=data1['Expandable_Memory'].str.replace('Expandable Upto ','')\n",
    "data1['Expandable_Memory'].value_counts(sort=False)"
   ]
  },
  {
   "cell_type": "code",
   "execution_count": 32,
   "metadata": {},
   "outputs": [
    {
     "data": {
      "text/plain": [
       "Samsung      356\n",
       "Vivo         218\n",
       "Realme        86\n",
       "Xiaomi        78\n",
       "Nokia         74\n",
       "Motorola      46\n",
       "Micromax      40\n",
       "LG            32\n",
       "Lenovo        20\n",
       "Alcatel       14\n",
       "Asus          14\n",
       "Panasonic     12\n",
       "Google         6\n",
       "Name: Brand_Name, dtype: int64"
      ]
     },
     "execution_count": 32,
     "metadata": {},
     "output_type": "execute_result"
    }
   ],
   "source": [
    "data1['Brand_Name'].value_counts()"
   ]
  },
  {
   "cell_type": "code",
   "execution_count": 33,
   "metadata": {},
   "outputs": [
    {
     "data": {
      "text/plain": [
       "Product_Name            object\n",
       "Rating                 float64\n",
       "Display                float64\n",
       "Battery                  int32\n",
       "Price                    int64\n",
       "RAM                     object\n",
       "ROM                     object\n",
       "Expandable_Memory       object\n",
       "Rear_Camera             object\n",
       "Front_Camera            object\n",
       "Processor               object\n",
       "Brand_Name              object\n",
       "Processor_Category      object\n",
       "Price_Category        category\n",
       "Battery_Category      category\n",
       "Rating_Category       category\n",
       "dtype: object"
      ]
     },
     "execution_count": 33,
     "metadata": {},
     "output_type": "execute_result"
    }
   ],
   "source": [
    "data1.dtypes"
   ]
  },
  {
   "cell_type": "code",
   "execution_count": 34,
   "metadata": {},
   "outputs": [
    {
     "data": {
      "text/plain": [
       "Product_Name          382\n",
       "Rating                 22\n",
       "Display                43\n",
       "Battery                57\n",
       "Price                 219\n",
       "RAM                     8\n",
       "ROM                    15\n",
       "Expandable_Memory      10\n",
       "Rear_Camera            72\n",
       "Front_Camera           22\n",
       "Processor             163\n",
       "Brand_Name             13\n",
       "Processor_Category      5\n",
       "Price_Category          9\n",
       "Battery_Category        6\n",
       "Rating_Category         6\n",
       "dtype: int64"
      ]
     },
     "execution_count": 34,
     "metadata": {},
     "output_type": "execute_result"
    }
   ],
   "source": [
    "data1.nunique()"
   ]
  },
  {
   "cell_type": "code",
   "execution_count": 35,
   "metadata": {},
   "outputs": [
    {
     "data": {
      "text/plain": [
       "Product_Name           0\n",
       "Rating                 0\n",
       "Display                0\n",
       "Battery                0\n",
       "Price                  0\n",
       "RAM                    0\n",
       "ROM                    0\n",
       "Expandable_Memory      0\n",
       "Rear_Camera            0\n",
       "Front_Camera          92\n",
       "Processor              0\n",
       "Brand_Name             0\n",
       "Processor_Category     0\n",
       "Price_Category         0\n",
       "Battery_Category       0\n",
       "Rating_Category        0\n",
       "dtype: int64"
      ]
     },
     "execution_count": 35,
     "metadata": {},
     "output_type": "execute_result"
    }
   ],
   "source": [
    "data1.isnull().sum(axis = 0)"
   ]
  },
  {
   "cell_type": "code",
   "execution_count": 36,
   "metadata": {},
   "outputs": [
    {
     "data": {
      "text/plain": [
       "Samsung      356\n",
       "Vivo         218\n",
       "Realme        86\n",
       "Xiaomi        78\n",
       "Nokia         74\n",
       "Motorola      46\n",
       "Micromax      40\n",
       "LG            32\n",
       "Lenovo        20\n",
       "Alcatel       14\n",
       "Asus          14\n",
       "Panasonic     12\n",
       "Google         6\n",
       "Name: Brand_Name, dtype: int64"
      ]
     },
     "execution_count": 36,
     "metadata": {},
     "output_type": "execute_result"
    }
   ],
   "source": [
    "data1['Brand_Name'].value_counts()"
   ]
  },
  {
   "cell_type": "code",
   "execution_count": 37,
   "metadata": {},
   "outputs": [
    {
     "data": {
      "text/plain": [
       "Product_Name            object\n",
       "Rating                 float64\n",
       "Display                float64\n",
       "Battery                  int32\n",
       "Price                    int64\n",
       "RAM                     object\n",
       "ROM                     object\n",
       "Expandable_Memory       object\n",
       "Rear_Camera             object\n",
       "Front_Camera            object\n",
       "Processor               object\n",
       "Brand_Name              object\n",
       "Processor_Category      object\n",
       "Price_Category        category\n",
       "Battery_Category      category\n",
       "Rating_Category       category\n",
       "dtype: object"
      ]
     },
     "execution_count": 37,
     "metadata": {},
     "output_type": "execute_result"
    }
   ],
   "source": [
    "data1.dtypes"
   ]
  },
  {
   "cell_type": "code",
   "execution_count": 38,
   "metadata": {},
   "outputs": [],
   "source": [
    "data1.to_excel(\"D:\\\\Jupyter Notebook\\\\Assignment 2\\\\V2\\\\Final_Dataset.xlsx\")"
   ]
  },
  {
   "cell_type": "code",
   "execution_count": 39,
   "metadata": {},
   "outputs": [],
   "source": [
    "data2 = pd.read_excel(\"D:\\\\Jupyter Notebook\\\\Assignment 2\\\\V2\\\\Final_Dataset.xlsx\")"
   ]
  },
  {
   "cell_type": "code",
   "execution_count": 40,
   "metadata": {},
   "outputs": [],
   "source": [
    "data2 = data2.drop(['Unnamed: 0'], axis = 1)"
   ]
  },
  {
   "cell_type": "code",
   "execution_count": 41,
   "metadata": {},
   "outputs": [],
   "source": [
    "corelation = data2.corr()"
   ]
  },
  {
   "cell_type": "code",
   "execution_count": 42,
   "metadata": {},
   "outputs": [
    {
     "data": {
      "text/plain": [
       "<matplotlib.axes._subplots.AxesSubplot at 0x291dfe37508>"
      ]
     },
     "execution_count": 42,
     "metadata": {},
     "output_type": "execute_result"
    },
    {
     "data": {
      "image/png": "[encoded data removed]",
      "text/plain": [
       "<Figure size 720x360 with 2 Axes>"
      ]
     },
     "metadata": {
      "needs_background": "light"
     },
     "output_type": "display_data"
    }
   ],
   "source": [
    "plt.figure(figsize=(10,5))\n",
    "sns.heatmap(corelation,xticklabels=corelation.columns,\n",
    "            yticklabels=corelation.columns,cmap=\"YlGnBu\", annot=True, linewidth=0.5)"
   ]
  },
  {
   "cell_type": "code",
   "execution_count": 43,
   "metadata": {},
   "outputs": [
    {
     "data": {
      "text/plain": [
       "<matplotlib.axes._subplots.AxesSubplot at 0x291dfdaffc8>"
      ]
     },
     "execution_count": 43,
     "metadata": {},
     "output_type": "execute_result"
    },
    {
     "data": {
      "image/png": "[encoded data removed]",
      "text/plain": [
       "<Figure size 432x288 with 2 Axes>"
      ]
     },
     "metadata": {
      "needs_background": "light"
     },
     "output_type": "display_data"
    }
   ],
   "source": [
    "#plt.figure(figsize=(10,5)\n",
    "sns.heatmap(corelation,xticklabels=corelation.columns,yticklabels=corelation.columns, annot=True)\n",
    "#plt.show()"
   ]
  },
  {
   "cell_type": "code",
   "execution_count": 44,
   "metadata": {},
   "outputs": [
    {
     "data": {
      "text/plain": [
       "<seaborn.axisgrid.PairGrid at 0x291dfd8d1c8>"
      ]
     },
     "execution_count": 44,
     "metadata": {},
     "output_type": "execute_result"
    },
    {
     "data": {
      "image/png": "[encoded data removed]",
      "text/plain": [
       "<Figure size 720x720 with 20 Axes>"
      ]
     },
     "metadata": {
      "needs_background": "light"
     },
     "output_type": "display_data"
    }
   ],
   "source": [
    "sns.pairplot(data2)"
   ]
  },
  {
   "cell_type": "code",
   "execution_count": 45,
   "metadata": {},
   "outputs": [
    {
     "data": {
      "text/plain": [
       "([0, 1, 2, 3, 4, 5, 6, 7], <a list of 8 Text xticklabel objects>)"
      ]
     },
     "execution_count": 45,
     "metadata": {},
     "output_type": "execute_result"
    },
    {
     "data": {
      "image/png": "[encoded data removed]",
      "text/plain": [
       "<Figure size 478.875x360 with 1 Axes>"
      ]
     },
     "metadata": {
      "needs_background": "light"
     },
     "output_type": "display_data"
    }
   ],
   "source": [
    "sns.relplot(x='RAM', y='Price', hue='Rating_Category', data=data1)\n",
    "plt.xticks(rotation='vertical')\n",
    "#sns.barplot(carrier_count.index, carrier_count.values, alpha=0.9)"
   ]
  },
  {
   "cell_type": "code",
   "execution_count": 46,
   "metadata": {},
   "outputs": [
    {
     "data": {
      "text/html": [
       "<div>\n",
       "<style scoped>\n",
       "    .dataframe tbody tr th:only-of-type {\n",
       "        vertical-align: middle;\n",
       "    }\n",
       "\n",
       "    .dataframe tbody tr th {\n",
       "        vertical-align: top;\n",
       "    }\n",
       "\n",
       "    .dataframe thead th {\n",
       "        text-align: right;\n",
       "    }\n",
       "</style>\n",
       "<table border=\"1\" class=\"dataframe\">\n",
       "  <thead>\n",
       "    <tr style=\"text-align: right;\">\n",
       "      <th></th>\n",
       "      <th>Product_Name</th>\n",
       "      <th>Rating</th>\n",
       "      <th>Display</th>\n",
       "      <th>Battery</th>\n",
       "      <th>Price</th>\n",
       "      <th>RAM</th>\n",
       "      <th>ROM</th>\n",
       "      <th>Expandable_Memory</th>\n",
       "      <th>Rear_Camera</th>\n",
       "      <th>Front_Camera</th>\n",
       "      <th>Processor</th>\n",
       "      <th>Brand_Name</th>\n",
       "      <th>Processor_Category</th>\n",
       "      <th>Price_Category</th>\n",
       "      <th>Battery_Category</th>\n",
       "      <th>Rating_Category</th>\n",
       "    </tr>\n",
       "  </thead>\n",
       "  <tbody>\n",
       "    <tr>\n",
       "      <td>0</td>\n",
       "      <td>Motorola G8 Power Lite (Arctic Blue, 64 GB)</td>\n",
       "      <td>4.5</td>\n",
       "      <td>6.5</td>\n",
       "      <td>5000</td>\n",
       "      <td>9499</td>\n",
       "      <td>4 GB RAM</td>\n",
       "      <td>64 GB ROM</td>\n",
       "      <td>256 GB</td>\n",
       "      <td>16MP + 2MP + 2MP</td>\n",
       "      <td>8MP</td>\n",
       "      <td>MediaTek Helio P35</td>\n",
       "      <td>Motorola</td>\n",
       "      <td>MediaTek</td>\n",
       "      <td>b. 6K-10K</td>\n",
       "      <td>e. 4000-5000</td>\n",
       "      <td>f. 4.45-5</td>\n",
       "    </tr>\n",
       "    <tr>\n",
       "      <td>1</td>\n",
       "      <td>Motorola G8 Power Lite (Arctic Blue, 64 GB)</td>\n",
       "      <td>4.5</td>\n",
       "      <td>6.5</td>\n",
       "      <td>5000</td>\n",
       "      <td>9499</td>\n",
       "      <td>4 GB RAM</td>\n",
       "      <td>64 GB ROM</td>\n",
       "      <td>256 GB</td>\n",
       "      <td>16MP + 2MP + 2MP</td>\n",
       "      <td>8MP</td>\n",
       "      <td>MediaTek Helio P35</td>\n",
       "      <td>Motorola</td>\n",
       "      <td>MediaTek</td>\n",
       "      <td>b. 6K-10K</td>\n",
       "      <td>e. 4000-5000</td>\n",
       "      <td>f. 4.45-5</td>\n",
       "    </tr>\n",
       "    <tr>\n",
       "      <td>2</td>\n",
       "      <td>Realme 6 Pro (Lightning Blue, 64 GB)</td>\n",
       "      <td>4.5</td>\n",
       "      <td>6.6</td>\n",
       "      <td>4300</td>\n",
       "      <td>17999</td>\n",
       "      <td>6 GB RAM</td>\n",
       "      <td>64 GB ROM</td>\n",
       "      <td>256 GB</td>\n",
       "      <td>64MP + 12MP + 8MP + 2MP</td>\n",
       "      <td>16MP + 8MP Dual</td>\n",
       "      <td>Snapdragon 720G</td>\n",
       "      <td>Realme</td>\n",
       "      <td>Qualcomm</td>\n",
       "      <td>d. 15K-20K</td>\n",
       "      <td>e. 4000-5000</td>\n",
       "      <td>f. 4.45-5</td>\n",
       "    </tr>\n",
       "    <tr>\n",
       "      <td>3</td>\n",
       "      <td>Realme 6 Pro (Lightning Blue, 64 GB)</td>\n",
       "      <td>4.5</td>\n",
       "      <td>6.6</td>\n",
       "      <td>4300</td>\n",
       "      <td>17999</td>\n",
       "      <td>6 GB RAM</td>\n",
       "      <td>64 GB ROM</td>\n",
       "      <td>256 GB</td>\n",
       "      <td>64MP + 12MP + 8MP + 2MP</td>\n",
       "      <td>16MP + 8MP Dual</td>\n",
       "      <td>Snapdragon 720G</td>\n",
       "      <td>Realme</td>\n",
       "      <td>Qualcomm</td>\n",
       "      <td>d. 15K-20K</td>\n",
       "      <td>e. 4000-5000</td>\n",
       "      <td>f. 4.45-5</td>\n",
       "    </tr>\n",
       "    <tr>\n",
       "      <td>4</td>\n",
       "      <td>Motorola G8 Power Lite (Royal Blue, 64 GB)</td>\n",
       "      <td>4.5</td>\n",
       "      <td>6.5</td>\n",
       "      <td>5000</td>\n",
       "      <td>9499</td>\n",
       "      <td>4 GB RAM</td>\n",
       "      <td>64 GB ROM</td>\n",
       "      <td>256 GB</td>\n",
       "      <td>16MP + 2MP + 2MP</td>\n",
       "      <td>8MP</td>\n",
       "      <td>MediaTek Helio P35</td>\n",
       "      <td>Motorola</td>\n",
       "      <td>MediaTek</td>\n",
       "      <td>b. 6K-10K</td>\n",
       "      <td>e. 4000-5000</td>\n",
       "      <td>f. 4.45-5</td>\n",
       "    </tr>\n",
       "  </tbody>\n",
       "</table>\n",
       "</div>"
      ],
      "text/plain": [
       "                                  Product_Name  Rating  Display  Battery  \\\n",
       "0  Motorola G8 Power Lite (Arctic Blue, 64 GB)     4.5      6.5     5000   \n",
       "1  Motorola G8 Power Lite (Arctic Blue, 64 GB)     4.5      6.5     5000   \n",
       "2         Realme 6 Pro (Lightning Blue, 64 GB)     4.5      6.6     4300   \n",
       "3         Realme 6 Pro (Lightning Blue, 64 GB)     4.5      6.6     4300   \n",
       "4   Motorola G8 Power Lite (Royal Blue, 64 GB)     4.5      6.5     5000   \n",
       "\n",
       "   Price        RAM          ROM Expandable_Memory               Rear_Camera  \\\n",
       "0   9499  4 GB RAM    64 GB ROM             256 GB         16MP + 2MP + 2MP    \n",
       "1   9499  4 GB RAM    64 GB ROM             256 GB         16MP + 2MP + 2MP    \n",
       "2  17999  6 GB RAM    64 GB ROM             256 GB  64MP + 12MP + 8MP + 2MP    \n",
       "3  17999  6 GB RAM    64 GB ROM             256 GB  64MP + 12MP + 8MP + 2MP    \n",
       "4   9499  4 GB RAM    64 GB ROM             256 GB         16MP + 2MP + 2MP    \n",
       "\n",
       "       Front_Camera           Processor Brand_Name Processor_Category  \\\n",
       "0               8MP  MediaTek Helio P35   Motorola           MediaTek   \n",
       "1               8MP  MediaTek Helio P35   Motorola           MediaTek   \n",
       "2   16MP + 8MP Dual     Snapdragon 720G     Realme           Qualcomm   \n",
       "3   16MP + 8MP Dual     Snapdragon 720G     Realme           Qualcomm   \n",
       "4               8MP  MediaTek Helio P35   Motorola           MediaTek   \n",
       "\n",
       "  Price_Category Battery_Category Rating_Category  \n",
       "0      b. 6K-10K     e. 4000-5000       f. 4.45-5  \n",
       "1      b. 6K-10K     e. 4000-5000       f. 4.45-5  \n",
       "2     d. 15K-20K     e. 4000-5000       f. 4.45-5  \n",
       "3     d. 15K-20K     e. 4000-5000       f. 4.45-5  \n",
       "4      b. 6K-10K     e. 4000-5000       f. 4.45-5  "
      ]
     },
     "execution_count": 46,
     "metadata": {},
     "output_type": "execute_result"
    }
   ],
   "source": [
    "#sns.distplot(data['Price'],bins=5)\n",
    "data1.head()"
   ]
  },
  {
   "cell_type": "code",
   "execution_count": 48,
   "metadata": {},
   "outputs": [
    {
     "data": {
      "text/plain": [
       "a. 3.6K-6K      24\n",
       "b. 6K-10K      206\n",
       "c. 10K-15K     264\n",
       "d. 15K-20K     234\n",
       "e. 20K-25K      68\n",
       "f. 25K-30K      52\n",
       "g. 30K-40K      46\n",
       "h. 40K-60K      50\n",
       "i. 60k-1.2L     52\n",
       "Name: Price_Category, dtype: int64"
      ]
     },
     "execution_count": 48,
     "metadata": {},
     "output_type": "execute_result"
    }
   ],
   "source": [
    "data1['Price_Category'].value_counts(sort=False)"
   ]
  },
  {
   "cell_type": "code",
   "execution_count": 49,
   "metadata": {},
   "outputs": [
    {
     "data": {
      "text/plain": [
       "a. 3.6K-6K      2.409639\n",
       "b. 6K-10K      20.682731\n",
       "c. 10K-15K     26.506024\n",
       "d. 15K-20K     23.493976\n",
       "e. 20K-25K      6.827309\n",
       "f. 25K-30K      5.220884\n",
       "g. 30K-40K      4.618474\n",
       "h. 40K-60K      5.020080\n",
       "i. 60k-1.2L     5.220884\n",
       "Name: Price_Category, dtype: float64"
      ]
     },
     "execution_count": 49,
     "metadata": {},
     "output_type": "execute_result"
    }
   ],
   "source": [
    "(data1['Price_Category'].value_counts(sort=False)/\n",
    "     data1['Price_Category'].count())*100"
   ]
  },
  {
   "cell_type": "code",
   "execution_count": 50,
   "metadata": {},
   "outputs": [
    {
     "name": "stdout",
     "output_type": "stream",
     "text": [
      "Price_Category  Brand_Name  Rating_Category  Price_Category  Expandable_Memory  Battery_Category  RAM         ROM         \n",
      "a. 3.6K-6K      Alcatel     a. 1-3           a. 3.6K-6K      Blank              a. 1200-2100      1 GB RAM     8 GB ROM        2\n",
      "                Micromax    b. 3-4           a. 3.6K-6K       32 GB             a. 1200-2100      1 GB RAM     8 GB ROM        4\n",
      "                                                              64 GB             b. 2100-3000      2 GB RAM     16 GB ROM       4\n",
      "                                                             Blank              a. 1200-2100      1 GB RAM     8 GB ROM        4\n",
      "                Nokia       a. 1-3           a. 3.6K-6K      Blank              b. 2100-3000      1 GB RAM     8 GB ROM        2\n",
      "                                                                                                                              ..\n",
      "i. 60k-1.2L     Samsung     f. 4.45-5        i. 60k-1.2L      512 GB            c. 3000-3500      8 GB RAM     128 GB ROM      4\n",
      "                                                                                d. 3500-4000      6 GB RAM     128 GB ROM     10\n",
      "                                                                                                  8 GB RAM     512 GB ROM      2\n",
      "                                                                                e. 4000-5000      12 GB RAM    1 TB ROM        4\n",
      "                                                             Blank              c. 3000-3500      8 GB RAM     256 GB ROM      2\n",
      "Name: Product_Name, Length: 276, dtype: int64\n"
     ]
    }
   ],
   "source": [
    "df1=data1.groupby(['Price_Category','Brand_Name','Rating_Category','Price_Category','Expandable_Memory','Battery_Category','RAM','ROM'])['Product_Name'].count()\n",
    "print(df1)\n",
    "df1.to_excel(\"D:\\\\Jupyter Notebook\\\\Assignment 2\\\\V2\\\\Multivariate_Summary.xlsx\")"
   ]
  },
  {
   "cell_type": "code",
   "execution_count": 51,
   "metadata": {},
   "outputs": [
    {
     "name": "stdout",
     "output_type": "stream",
     "text": [
      "Price_Category  Brand_Name\n",
      "a. 3.6K-6K      Alcatel        2\n",
      "                Micromax      12\n",
      "                Nokia          4\n",
      "                Panasonic      2\n",
      "                Samsung        4\n",
      "                              ..\n",
      "h. 40K-60K      Samsung       36\n",
      "                Xiaomi         2\n",
      "i. 60k-1.2L     Google         2\n",
      "                Motorola       4\n",
      "                Samsung       46\n",
      "Name: Product_Name, Length: 62, dtype: int64\n"
     ]
    }
   ],
   "source": [
    "df1=data1.groupby(['Price_Category','Brand_Name'])['Product_Name'].count()\n",
    "print(df1)\n",
    "df1.to_excel(\"D:\\\\Jupyter Notebook\\\\Assignment 2\\\\V2\\\\Price_Brand_Summary.xlsx\")"
   ]
  },
  {
   "cell_type": "code",
   "execution_count": 52,
   "metadata": {},
   "outputs": [
    {
     "data": {
      "text/html": [
       "<div>\n",
       "<style scoped>\n",
       "    .dataframe tbody tr th:only-of-type {\n",
       "        vertical-align: middle;\n",
       "    }\n",
       "\n",
       "    .dataframe tbody tr th {\n",
       "        vertical-align: top;\n",
       "    }\n",
       "\n",
       "    .dataframe thead th {\n",
       "        text-align: right;\n",
       "    }\n",
       "</style>\n",
       "<table border=\"1\" class=\"dataframe\">\n",
       "  <thead>\n",
       "    <tr style=\"text-align: right;\">\n",
       "      <th></th>\n",
       "      <th>Rating</th>\n",
       "      <th>Display</th>\n",
       "      <th>Battery</th>\n",
       "      <th>Price</th>\n",
       "    </tr>\n",
       "  </thead>\n",
       "  <tbody>\n",
       "    <tr>\n",
       "      <td>count</td>\n",
       "      <td>996.000000</td>\n",
       "      <td>996.000000</td>\n",
       "      <td>996.000000</td>\n",
       "      <td>996.000000</td>\n",
       "    </tr>\n",
       "    <tr>\n",
       "      <td>mean</td>\n",
       "      <td>4.242369</td>\n",
       "      <td>5.946145</td>\n",
       "      <td>3682.710843</td>\n",
       "      <td>20652.604418</td>\n",
       "    </tr>\n",
       "    <tr>\n",
       "      <td>std</td>\n",
       "      <td>0.319724</td>\n",
       "      <td>0.588441</td>\n",
       "      <td>857.181299</td>\n",
       "      <td>17334.685066</td>\n",
       "    </tr>\n",
       "    <tr>\n",
       "      <td>min</td>\n",
       "      <td>2.300000</td>\n",
       "      <td>4.000000</td>\n",
       "      <td>1600.000000</td>\n",
       "      <td>4086.000000</td>\n",
       "    </tr>\n",
       "    <tr>\n",
       "      <td>25%</td>\n",
       "      <td>4.200000</td>\n",
       "      <td>5.500000</td>\n",
       "      <td>3000.000000</td>\n",
       "      <td>10900.000000</td>\n",
       "    </tr>\n",
       "    <tr>\n",
       "      <td>50%</td>\n",
       "      <td>4.300000</td>\n",
       "      <td>6.200000</td>\n",
       "      <td>3700.000000</td>\n",
       "      <td>15184.000000</td>\n",
       "    </tr>\n",
       "    <tr>\n",
       "      <td>75%</td>\n",
       "      <td>4.400000</td>\n",
       "      <td>6.400000</td>\n",
       "      <td>4200.000000</td>\n",
       "      <td>21990.000000</td>\n",
       "    </tr>\n",
       "    <tr>\n",
       "      <td>max</td>\n",
       "      <td>5.000000</td>\n",
       "      <td>6.900000</td>\n",
       "      <td>6000.000000</td>\n",
       "      <td>117990.000000</td>\n",
       "    </tr>\n",
       "  </tbody>\n",
       "</table>\n",
       "</div>"
      ],
      "text/plain": [
       "           Rating     Display      Battery          Price\n",
       "count  996.000000  996.000000   996.000000     996.000000\n",
       "mean     4.242369    5.946145  3682.710843   20652.604418\n",
       "std      0.319724    0.588441   857.181299   17334.685066\n",
       "min      2.300000    4.000000  1600.000000    4086.000000\n",
       "25%      4.200000    5.500000  3000.000000   10900.000000\n",
       "50%      4.300000    6.200000  3700.000000   15184.000000\n",
       "75%      4.400000    6.400000  4200.000000   21990.000000\n",
       "max      5.000000    6.900000  6000.000000  117990.000000"
      ]
     },
     "execution_count": 52,
     "metadata": {},
     "output_type": "execute_result"
    }
   ],
   "source": [
    "data1.describe()"
   ]
  },
  {
   "cell_type": "code",
   "execution_count": 53,
   "metadata": {
    "scrolled": false
   },
   "outputs": [
    {
     "name": "stdout",
     "output_type": "stream",
     "text": [
      "Price_Category  Brand_Name  Rating_Category  RAM        ROM           Processor_Category\n",
      "a. 3.6K-6K      Alcatel     a. 1-3           1 GB RAM    8 GB ROM     Blank                  2\n",
      "                Micromax    b. 3-4           1 GB RAM    8 GB ROM     Blank                  4\n",
      "                                                         8 GB ROM     Blank                  4\n",
      "                                             2 GB RAM    16 GB ROM    Blank                  2\n",
      "                                                                      MediaTek               2\n",
      "                                                                                            ..\n",
      "i. 60k-1.2L     Samsung     f. 4.45-5        6 GB RAM    128 GB ROM   Blank                 10\n",
      "                                                         64 GB ROM    Blank                  2\n",
      "                                             8 GB RAM    128 GB ROM   Exynos                10\n",
      "                                                         256 GB ROM   Blank                  2\n",
      "                                                         512 GB ROM   Blank                  2\n",
      "Name: Product_Name, Length: 276, dtype: int64\n"
     ]
    }
   ],
   "source": [
    "df=data1.groupby(['Price_Category','Brand_Name','Rating_Category','RAM','ROM','Processor_Category'])['Product_Name'].count()\n",
    "print(df)\n",
    "df.to_excel(\"D:\\\\Jupyter Notebook\\\\Assignment 2\\\\V2\\\\Multiple_Fields.xlsx\")"
   ]
  },
  {
   "cell_type": "code",
   "execution_count": 54,
   "metadata": {},
   "outputs": [
    {
     "data": {
      "text/plain": [
       "<matplotlib.axes._subplots.AxesSubplot at 0x291e1d35488>"
      ]
     },
     "execution_count": 54,
     "metadata": {},
     "output_type": "execute_result"
    },
    {
     "data": {
      "image/png": "[encoded data removed]",
      "text/plain": [
       "<Figure size 432x288 with 1 Axes>"
      ]
     },
     "metadata": {
      "needs_background": "light"
     },
     "output_type": "display_data"
    }
   ],
   "source": [
    "data1['Price'].plot(kind='hist')"
   ]
  },
  {
   "cell_type": "code",
   "execution_count": 56,
   "metadata": {},
   "outputs": [
    {
     "data": {
      "image/png": "[encoded data removed]",
      "text/plain": [
       "<Figure size 432x288 with 1 Axes>"
      ]
     },
     "metadata": {},
     "output_type": "display_data"
    }
   ],
   "source": [
    "#temp = data1.Expandable_Memory.fillna(\"NULL\")\n",
    "carrier_count = data1['Price_Category'].value_counts()\n",
    "sns.set(style=\"darkgrid\")\n",
    "sns.barplot(carrier_count.index, carrier_count.values, alpha=.9)\n",
    "plt.title('Frequency Distribution of Price Range')\n",
    "plt.ylabel('Number of Phones', fontsize=12)\n",
    "plt.xlabel('Price Category', fontsize=12)\n",
    "plt.xticks(rotation='vertical')\n",
    "plt.show()"
   ]
  },
  {
   "cell_type": "code",
   "execution_count": null,
   "metadata": {},
   "outputs": [],
   "source": [
    "\n",
    "#temp = data2.Expandable_Memory.fillna(\"Blank\")\n",
    "#data2.dtypes\n",
    "#Rating_grp = data2.groupby('Expandable_Memory')\n",
    "#Rating_grp.size()"
   ]
  },
  {
   "cell_type": "code",
   "execution_count": 30,
   "metadata": {},
   "outputs": [],
   "source": [
    "#data2['Expandable_Memory'].unique()"
   ]
  },
  {
   "cell_type": "code",
   "execution_count": 31,
   "metadata": {},
   "outputs": [],
   "source": [
    "#carrier_count = data2['Expandable_Memory'].value_counts()\n",
    "#sns.set(style=\"darkgrid\")\n",
    "#sns.barplot(carrier_count.index, carrier_count.values, alpha=0.9)\n",
    "#plt.title('Frequency Distribution of Carriers')\n",
    "#plt.ylabel('Number of Occurrences', fontsize=12)\n",
    "#plt.xlabel('Carrier', fontsize=12)\n",
    "#plt.xticks(rotation='vertical')\n",
    "#plt.show()"
   ]
  },
  {
   "cell_type": "code",
   "execution_count": 32,
   "metadata": {},
   "outputs": [],
   "source": [
    "#plt.barh(\"Brand_Name\", \"Price\", data = data2)\n",
    "#plt.xlabel(\"Price\") \n",
    "#plt.ylabel(\"Brand_Name\") \n",
    "#plt.title(\"Brand Vs Rating\")\n",
    "#plt.show()"
   ]
  },
  {
   "cell_type": "code",
   "execution_count": 33,
   "metadata": {},
   "outputs": [],
   "source": [
    "#plt.bar(\"Brand_Name\", \"Price\", data = data2, color = \"blue\")\n",
    "#plt.xlabel(\"Brand_Name\")\n",
    "#plt.xticks(rotation = 90)\n",
    "#plt.ylabel(\"Price\")\n",
    "#plt.show()"
   ]
  },
  {
   "cell_type": "code",
   "execution_count": 34,
   "metadata": {},
   "outputs": [],
   "source": [
    "#data2.dtypes"
   ]
  },
  {
   "cell_type": "code",
   "execution_count": 35,
   "metadata": {},
   "outputs": [],
   "source": [
    "#Rating_grp = data2.groupby('rating_1')\n",
    "#Rating_grp.size()"
   ]
  },
  {
   "cell_type": "code",
   "execution_count": 390,
   "metadata": {},
   "outputs": [
    {
     "data": {
      "image/png": "[encoded data removed]",
      "text/plain": [
       "<Figure size 432x288 with 1 Axes>"
      ]
     },
     "metadata": {},
     "output_type": "display_data"
    }
   ],
   "source": [
    "Rating_cat=[\"(3.1 to 4.1)\",\"(4.1 to 4.3)\",\"(4.3 to 4.4)\",\"(4.4 to 5.0)\"]\n",
    "Total_observations=[303,290,206,252]\n",
    "plt.pie(Total_observations, labels=Rating_cat, autopct='%1.2f%%',radius=1.5)\n",
    "plt.show()"
   ]
  },
  {
   "cell_type": "code",
   "execution_count": 37,
   "metadata": {},
   "outputs": [],
   "source": [
    "#print(data2['Brand_Name'].value_counts())"
   ]
  },
  {
   "cell_type": "code",
   "execution_count": 38,
   "metadata": {},
   "outputs": [],
   "source": [
    "#carrier_count = data2['Brand_Name'].value_counts()\n",
    "#sns.set(style=\"darkgrid\")\n",
    "#sns.barplot(carrier_count.index, carrier_count.values, alpha=0.9)\n",
    "#plt.title('Frequency Distribution of Carriers')\n",
    "#plt.ylabel('Number of Phones', fontsize=12)\n",
    "#plt.xlabel('Brand Name', fontsize=12)\n",
    "#plt.xticks(rotation='vertical')\n",
    "#plt.show()"
   ]
  },
  {
   "cell_type": "code",
   "execution_count": 39,
   "metadata": {},
   "outputs": [],
   "source": [
    "#carrier_count = data2['ROM'].value_counts()\n",
    "#sns.set(style=\"darkgrid\")\n",
    "#sns.barplot(carrier_count.index, carrier_count.values, alpha=0.9)\n",
    "#plt.title('Frequency Distribution of Carriers')\n",
    "#plt.ylabel('Number of Phones', fontsize=12)\n",
    "#plt.xlabel('Brand Name', fontsize=12)\n",
    "#plt.xticks(rotation='vertical')\n",
    "#plt.show()"
   ]
  },
  {
   "cell_type": "code",
   "execution_count": null,
   "metadata": {},
   "outputs": [],
   "source": []
  },
  {
   "cell_type": "code",
   "execution_count": null,
   "metadata": {},
   "outputs": [],
   "source": []
  }
 ],
 "metadata": {
  "kernelspec": {
   "display_name": "Python 3",
   "language": "python",
   "name": "python3"
  },
  "language_info": {
   "codemirror_mode": {
    "name": "ipython",
    "version": 3
   },
   "file_extension": ".py",
   "mimetype": "text/x-python",
   "name": "python",
   "nbconvert_exporter": "python",
   "pygments_lexer": "ipython3",
   "version": "3.7.4"
  }
 },
 "nbformat": 4,
 "nbformat_minor": 2
}
